{
 "cells": [
  {
   "cell_type": "code",
   "execution_count": 1,
   "metadata": {},
   "outputs": [],
   "source": [
    "from utils import prepare_jupyter\n",
    "prepare_jupyter()"
   ]
  },
  {
   "cell_type": "code",
   "execution_count": 2,
   "metadata": {},
   "outputs": [
    {
     "name": "stderr",
     "output_type": "stream",
     "text": [
      "/Users/tomek/.virtualenvs/masters/lib/python3.6/site-packages/lightgbm/__init__.py:47: UserWarning: Starting from version 2.2.1, the library file in distribution wheels for macOS is built by the Apple Clang (Xcode_8.3.3) compiler.\n",
      "This means that in case of installing LightGBM from PyPI via the ``pip install lightgbm`` command, you don't need to install the gcc compiler anymore.\n",
      "Instead of that, you need to install the OpenMP library, which is required for running LightGBM on the system with the Apple Clang compiler.\n",
      "You can install the OpenMP library by the following command: ``brew install libomp``.\n",
      "  \"You can install the OpenMP library by the following command: ``brew install libomp``.\", UserWarning)\n"
     ]
    }
   ],
   "source": [
    "import numpy as np\n",
    "import xgboost as xgb\n",
    "import matplotlib.pyplot as plt\n",
    "\n",
    "from matplotlib.pylab import rcParams\n",
    "from structure import XGBoostEnsemble\n",
    "from data import Dataset\n",
    "\n",
    "rcParams['figure.figsize'] = 12, 10\n",
    "\n",
    "# train_set, val_set = Dataset.create_cancer().split(0.5)\n",
    "train_set, val_set = Dataset.create_iris().split(0.5)"
   ]
  },
  {
   "cell_type": "code",
   "execution_count": 3,
   "metadata": {},
   "outputs": [
    {
     "data": {
      "text/plain": [
       "array([2, 2, 1, 2, 1, 2, 2, 1, 2, 1, 1, 1, 1, 0, 1, 2, 1, 0, 0, 1, 2, 1,\n",
       "       0, 2, 0, 0, 1, 2, 1, 0, 1, 1, 1, 0, 1, 1, 1, 2, 2, 2, 0, 2, 2, 1,\n",
       "       1, 2, 2, 0, 2, 0, 1, 2, 2, 1, 1, 0, 0, 1, 1, 2, 0, 0, 0, 2, 2, 2,\n",
       "       0, 2, 2, 0, 2, 1, 1, 0, 2])"
      ]
     },
     "execution_count": 3,
     "metadata": {},
     "output_type": "execute_result"
    }
   ],
   "source": [
    "params = {\n",
    "    'n_estimators': 3,\n",
    "    'max_depth': 5\n",
    "}\n",
    "\n",
    "clf = xgb.XGBClassifier(**params)\n",
    "clf.fit(train_set.X, train_set.y)\n",
    "\n",
    "clf.predict(val_set.X)"
   ]
  },
  {
   "cell_type": "code",
   "execution_count": 4,
   "metadata": {},
   "outputs": [
    {
     "data": {
      "text/plain": [
       "3"
      ]
     },
     "execution_count": 4,
     "metadata": {},
     "output_type": "execute_result"
    }
   ],
   "source": [
    "clf.n_estimators"
   ]
  },
  {
   "cell_type": "code",
   "execution_count": 5,
   "metadata": {},
   "outputs": [
    {
     "data": {
      "text/plain": [
       "array([-6.62337765e-02, -6.62337765e-02,  1.37142867e-01, -6.62337765e-02,\n",
       "        1.37142867e-01, -6.62337765e-02, -6.62337765e-02,  1.37142867e-01,\n",
       "       -6.62337765e-02,  1.37142867e-01,  1.37142867e-01,  1.37142867e-01,\n",
       "        1.37142867e-01, -6.99248239e-02,  1.37142867e-01, -6.62337765e-02,\n",
       "        1.37142867e-01, -6.99248239e-02, -6.99248239e-02,  1.37142867e-01,\n",
       "       -6.62337765e-02,  1.37142867e-01, -6.99248239e-02, -6.62337765e-02,\n",
       "       -6.99248239e-02, -6.99248239e-02,  1.37142867e-01, -2.55448485e-09,\n",
       "        1.37142867e-01, -6.99248239e-02,  1.37142867e-01,  1.37142867e-01,\n",
       "        1.37142867e-01, -6.99248239e-02,  1.37142867e-01,  1.37142867e-01,\n",
       "        1.37142867e-01, -6.62337765e-02, -2.55448485e-09, -2.55448485e-09,\n",
       "       -6.99248239e-02, -6.62337765e-02, -6.62337765e-02,  1.37142867e-01,\n",
       "        1.37142867e-01, -6.62337765e-02,  1.37142867e-01, -6.99248239e-02,\n",
       "       -6.62337765e-02, -6.99248239e-02,  1.37142867e-01, -6.62337765e-02,\n",
       "       -6.62337765e-02,  1.37142867e-01,  1.37142867e-01, -6.99248239e-02,\n",
       "       -6.99248239e-02,  1.37142867e-01,  1.37142867e-01, -6.62337765e-02,\n",
       "       -6.99248239e-02, -6.99248239e-02, -6.99248239e-02, -6.62337765e-02,\n",
       "       -6.62337765e-02, -6.62337765e-02, -6.99248239e-02,  1.37142867e-01,\n",
       "       -2.55448485e-09, -6.99248239e-02, -2.55448485e-09,  1.37142867e-01,\n",
       "        1.37142867e-01, -6.99248239e-02, -6.62337765e-02])"
      ]
     },
     "execution_count": 5,
     "metadata": {},
     "output_type": "execute_result"
    }
   ],
   "source": [
    "from structure.xgboost import XGBoostTree\n",
    "\n",
    "# This is the best way to retrieve info about node (I can get additional data from `trees_to_dataframe`)\n",
    "gv = xgb.to_graphviz(clf, num_trees=1)\n",
    "\n",
    "xgb_tree = XGBoostTree.parse(str(gv), train_set)\n",
    "\n",
    "xgb_preds = xgb_tree.predict(val_set.X)\n",
    "xgb_preds"
   ]
  },
  {
   "cell_type": "code",
   "execution_count": 6,
   "metadata": {},
   "outputs": [
    {
     "data": {
      "text/plain": [
       "'Digraph.gv.pdf'"
      ]
     },
     "execution_count": 6,
     "metadata": {},
     "output_type": "execute_result"
    },
    {
     "data": {
      "text/plain": [
       "<Figure size 1152x720 with 0 Axes>"
      ]
     },
     "metadata": {},
     "output_type": "display_data"
    }
   ],
   "source": [
    "plt.figure(figsize=(16, 10))\n",
    "xgb.to_graphviz(clf).render()"
   ]
  },
  {
   "cell_type": "code",
   "execution_count": 7,
   "metadata": {},
   "outputs": [
    {
     "data": {
      "text/plain": [
       "'0:[f2<2.70000005] yes=1,no=2,missing=1\\n\\t1:leaf=0.139849633\\n\\t2:leaf=-0.0713513568\\n'"
      ]
     },
     "execution_count": 7,
     "metadata": {},
     "output_type": "execute_result"
    }
   ],
   "source": [
    "clf.get_booster().get_dump()[0]"
   ]
  },
  {
   "cell_type": "code",
   "execution_count": 8,
   "metadata": {},
   "outputs": [],
   "source": [
    "booster = clf.get_booster()"
   ]
  },
  {
   "cell_type": "code",
   "execution_count": 9,
   "metadata": {},
   "outputs": [
    {
     "data": {
      "text/html": [
       "<div>\n",
       "<style scoped>\n",
       "    .dataframe tbody tr th:only-of-type {\n",
       "        vertical-align: middle;\n",
       "    }\n",
       "\n",
       "    .dataframe tbody tr th {\n",
       "        vertical-align: top;\n",
       "    }\n",
       "\n",
       "    .dataframe thead th {\n",
       "        text-align: right;\n",
       "    }\n",
       "</style>\n",
       "<table border=\"1\" class=\"dataframe\">\n",
       "  <thead>\n",
       "    <tr style=\"text-align: right;\">\n",
       "      <th></th>\n",
       "      <th>Tree</th>\n",
       "      <th>Node</th>\n",
       "      <th>ID</th>\n",
       "      <th>Feature</th>\n",
       "      <th>Split</th>\n",
       "      <th>Yes</th>\n",
       "      <th>No</th>\n",
       "      <th>Missing</th>\n",
       "      <th>Gain</th>\n",
       "      <th>Cover</th>\n",
       "    </tr>\n",
       "  </thead>\n",
       "  <tbody>\n",
       "    <tr>\n",
       "      <th>0</th>\n",
       "      <td>0</td>\n",
       "      <td>0</td>\n",
       "      <td>0-0</td>\n",
       "      <td>f2</td>\n",
       "      <td>2.70</td>\n",
       "      <td>0-1</td>\n",
       "      <td>0-2</td>\n",
       "      <td>0-1</td>\n",
       "      <td>3.831858e+01</td>\n",
       "      <td>33.333332</td>\n",
       "    </tr>\n",
       "    <tr>\n",
       "      <th>1</th>\n",
       "      <td>0</td>\n",
       "      <td>1</td>\n",
       "      <td>0-1</td>\n",
       "      <td>Leaf</td>\n",
       "      <td>NaN</td>\n",
       "      <td>NaN</td>\n",
       "      <td>NaN</td>\n",
       "      <td>NaN</td>\n",
       "      <td>1.398496e-01</td>\n",
       "      <td>13.777777</td>\n",
       "    </tr>\n",
       "    <tr>\n",
       "      <th>2</th>\n",
       "      <td>0</td>\n",
       "      <td>2</td>\n",
       "      <td>0-2</td>\n",
       "      <td>Leaf</td>\n",
       "      <td>NaN</td>\n",
       "      <td>NaN</td>\n",
       "      <td>NaN</td>\n",
       "      <td>NaN</td>\n",
       "      <td>-7.135136e-02</td>\n",
       "      <td>19.555553</td>\n",
       "    </tr>\n",
       "    <tr>\n",
       "      <th>3</th>\n",
       "      <td>1</td>\n",
       "      <td>0</td>\n",
       "      <td>1-0</td>\n",
       "      <td>f2</td>\n",
       "      <td>2.70</td>\n",
       "      <td>1-1</td>\n",
       "      <td>1-2</td>\n",
       "      <td>1-1</td>\n",
       "      <td>1.242016e+01</td>\n",
       "      <td>33.333332</td>\n",
       "    </tr>\n",
       "    <tr>\n",
       "      <th>4</th>\n",
       "      <td>1</td>\n",
       "      <td>1</td>\n",
       "      <td>1-1</td>\n",
       "      <td>Leaf</td>\n",
       "      <td>NaN</td>\n",
       "      <td>NaN</td>\n",
       "      <td>NaN</td>\n",
       "      <td>NaN</td>\n",
       "      <td>-6.992482e-02</td>\n",
       "      <td>13.777777</td>\n",
       "    </tr>\n",
       "    <tr>\n",
       "      <th>5</th>\n",
       "      <td>1</td>\n",
       "      <td>2</td>\n",
       "      <td>1-2</td>\n",
       "      <td>f3</td>\n",
       "      <td>1.70</td>\n",
       "      <td>1-3</td>\n",
       "      <td>1-4</td>\n",
       "      <td>1-3</td>\n",
       "      <td>1.999545e+01</td>\n",
       "      <td>19.555553</td>\n",
       "    </tr>\n",
       "    <tr>\n",
       "      <th>6</th>\n",
       "      <td>1</td>\n",
       "      <td>3</td>\n",
       "      <td>1-3</td>\n",
       "      <td>Leaf</td>\n",
       "      <td>NaN</td>\n",
       "      <td>NaN</td>\n",
       "      <td>NaN</td>\n",
       "      <td>NaN</td>\n",
       "      <td>1.371429e-01</td>\n",
       "      <td>10.666666</td>\n",
       "    </tr>\n",
       "    <tr>\n",
       "      <th>7</th>\n",
       "      <td>1</td>\n",
       "      <td>4</td>\n",
       "      <td>1-4</td>\n",
       "      <td>f0</td>\n",
       "      <td>6.05</td>\n",
       "      <td>1-5</td>\n",
       "      <td>1-6</td>\n",
       "      <td>1-5</td>\n",
       "      <td>5.060558e-01</td>\n",
       "      <td>8.888888</td>\n",
       "    </tr>\n",
       "    <tr>\n",
       "      <th>8</th>\n",
       "      <td>1</td>\n",
       "      <td>5</td>\n",
       "      <td>1-5</td>\n",
       "      <td>Leaf</td>\n",
       "      <td>NaN</td>\n",
       "      <td>NaN</td>\n",
       "      <td>NaN</td>\n",
       "      <td>NaN</td>\n",
       "      <td>-2.554485e-09</td>\n",
       "      <td>1.333333</td>\n",
       "    </tr>\n",
       "    <tr>\n",
       "      <th>9</th>\n",
       "      <td>1</td>\n",
       "      <td>6</td>\n",
       "      <td>1-6</td>\n",
       "      <td>Leaf</td>\n",
       "      <td>NaN</td>\n",
       "      <td>NaN</td>\n",
       "      <td>NaN</td>\n",
       "      <td>NaN</td>\n",
       "      <td>-6.623378e-02</td>\n",
       "      <td>7.555555</td>\n",
       "    </tr>\n",
       "    <tr>\n",
       "      <th>10</th>\n",
       "      <td>2</td>\n",
       "      <td>0</td>\n",
       "      <td>2-0</td>\n",
       "      <td>f3</td>\n",
       "      <td>1.70</td>\n",
       "      <td>2-1</td>\n",
       "      <td>2-2</td>\n",
       "      <td>2-1</td>\n",
       "      <td>2.754309e+01</td>\n",
       "      <td>33.333332</td>\n",
       "    </tr>\n",
       "    <tr>\n",
       "      <th>11</th>\n",
       "      <td>2</td>\n",
       "      <td>1</td>\n",
       "      <td>2-1</td>\n",
       "      <td>Leaf</td>\n",
       "      <td>NaN</td>\n",
       "      <td>NaN</td>\n",
       "      <td>NaN</td>\n",
       "      <td>NaN</td>\n",
       "      <td>-7.205241e-02</td>\n",
       "      <td>24.444443</td>\n",
       "    </tr>\n",
       "    <tr>\n",
       "      <th>12</th>\n",
       "      <td>2</td>\n",
       "      <td>2</td>\n",
       "      <td>2-2</td>\n",
       "      <td>f0</td>\n",
       "      <td>6.05</td>\n",
       "      <td>2-3</td>\n",
       "      <td>2-4</td>\n",
       "      <td>2-3</td>\n",
       "      <td>5.953693e-02</td>\n",
       "      <td>8.888888</td>\n",
       "    </tr>\n",
       "  </tbody>\n",
       "</table>\n",
       "</div>"
      ],
      "text/plain": [
       "    Tree  Node   ID Feature  Split  Yes   No Missing          Gain      Cover\n",
       "0      0     0  0-0      f2   2.70  0-1  0-2     0-1  3.831858e+01  33.333332\n",
       "1      0     1  0-1    Leaf    NaN  NaN  NaN     NaN  1.398496e-01  13.777777\n",
       "2      0     2  0-2    Leaf    NaN  NaN  NaN     NaN -7.135136e-02  19.555553\n",
       "3      1     0  1-0      f2   2.70  1-1  1-2     1-1  1.242016e+01  33.333332\n",
       "4      1     1  1-1    Leaf    NaN  NaN  NaN     NaN -6.992482e-02  13.777777\n",
       "5      1     2  1-2      f3   1.70  1-3  1-4     1-3  1.999545e+01  19.555553\n",
       "6      1     3  1-3    Leaf    NaN  NaN  NaN     NaN  1.371429e-01  10.666666\n",
       "7      1     4  1-4      f0   6.05  1-5  1-6     1-5  5.060558e-01   8.888888\n",
       "8      1     5  1-5    Leaf    NaN  NaN  NaN     NaN -2.554485e-09   1.333333\n",
       "9      1     6  1-6    Leaf    NaN  NaN  NaN     NaN -6.623378e-02   7.555555\n",
       "10     2     0  2-0      f3   1.70  2-1  2-2     2-1  2.754309e+01  33.333332\n",
       "11     2     1  2-1    Leaf    NaN  NaN  NaN     NaN -7.205241e-02  24.444443\n",
       "12     2     2  2-2      f0   6.05  2-3  2-4     2-3  5.953693e-02   8.888888"
      ]
     },
     "execution_count": 9,
     "metadata": {},
     "output_type": "execute_result"
    }
   ],
   "source": [
    "booster.trees_to_dataframe().head(n=13)"
   ]
  },
  {
   "cell_type": "code",
   "execution_count": 10,
   "metadata": {},
   "outputs": [
    {
     "data": {
      "text/plain": [
       "[array([{'id': 0, 'type': 'split', 'feature_idx': 2, 'value': 38.3185768, 'count': 33}],\n",
       "       dtype=object),\n",
       " array([{'id': 1, 'type': 'leaf', 'feature_idx': None, 'value': 0.139849633, 'count': 13},\n",
       "        {'id': 2, 'type': 'leaf', 'feature_idx': None, 'value': -0.0713513568, 'count': 19}],\n",
       "       dtype=object)]"
      ]
     },
     "execution_count": 10,
     "metadata": {},
     "output_type": "execute_result"
    }
   ],
   "source": [
    "from math import ceil, log2\n",
    "\n",
    "trees_df = booster.trees_to_dataframe()\n",
    "first_tree = trees_df[trees_df['Tree'] == 0]\n",
    "nodes = first_tree\n",
    "\n",
    "def get_info(node):\n",
    "    node_id = node[1]\n",
    "    node_type = 'leaf' if node[3] == 'Leaf' else 'split'\n",
    "    feature_idx = node[3][1:]\n",
    "    value = node[8]\n",
    "    cover = node[9]\n",
    "    \n",
    "    return {\n",
    "        'id': node[1],\n",
    "        'type': node_type,\n",
    "        'feature_idx': int(feature_idx) if node_type == 'split' else None,\n",
    "        'value': value,\n",
    "        'count': int(node[9])\n",
    "    }\n",
    "\n",
    "\n",
    "def divide_nodes(nodes):\n",
    "    n = len(nodes)\n",
    "    sizes = map(lambda x: 2 ** x, range(0, int(ceil(log2(n)))))\n",
    "    transformed = np.array([get_info(node) for node in nodes])\n",
    "    \n",
    "    divided_nodes = []\n",
    "    tmp_nodes = transformed.copy()\n",
    "    \n",
    "    for size in sizes:\n",
    "        nodes_slice = tmp_nodes[:size]\n",
    "        tmp_nodes = tmp_nodes[size:]\n",
    "        divided_nodes.append(nodes_slice)\n",
    "        \n",
    "    return divided_nodes\n",
    "    \n",
    "divided = divide_nodes(nodes.values)\n",
    "divided"
   ]
  },
  {
   "cell_type": "code",
   "execution_count": 11,
   "metadata": {},
   "outputs": [
    {
     "data": {
      "text/plain": [
       "-0.0697674453"
      ]
     },
     "execution_count": 11,
     "metadata": {},
     "output_type": "execute_result"
    }
   ],
   "source": [
    "leaf_str = 'leaf=-0.0697674453'\n",
    "float(leaf_str.split('=')[1])"
   ]
  },
  {
   "cell_type": "markdown",
   "metadata": {},
   "source": [
    "# XGBoost Ensemble testing\n",
    "\n",
    "Wykorzystanie własnej struktury do ewaluacji"
   ]
  },
  {
   "cell_type": "code",
   "execution_count": 12,
   "metadata": {},
   "outputs": [],
   "source": [
    "params = {\n",
    "    'n_estimators': 3,\n",
    "    'max_depth': 5\n",
    "}\n",
    "\n",
    "xgb_ensemble = XGBoostEnsemble(params)"
   ]
  },
  {
   "cell_type": "code",
   "execution_count": 13,
   "metadata": {},
   "outputs": [],
   "source": [
    "iris_train, iris_val = Dataset.create_iris().split(0.90)\n",
    "cancer_train, cancer_val = Dataset.create_cancer().split(0.90)\n",
    "\n",
    "xgb_ensemble.fit(iris_train)\n",
    "\n",
    "X_test = iris_val.X\n",
    "y_test = iris_val.y\n",
    "\n",
    "my_preds_raw = xgb_ensemble.predict_proba(X_test)\n",
    "clf_preds_raw = xgb_ensemble.clf.predict_proba(X_test)\n",
    "\n",
    "my_preds_cls = xgb_ensemble.predict(X_test)\n",
    "clf_preds_cls = xgb_ensemble.predict(X_test)"
   ]
  },
  {
   "cell_type": "markdown",
   "metadata": {},
   "source": [
    "# Bugfixing"
   ]
  },
  {
   "cell_type": "code",
   "execution_count": 14,
   "metadata": {},
   "outputs": [],
   "source": [
    "train_set, val_set = Dataset.create_iris().split(0.5)\n",
    "\n",
    "params = {\n",
    "    'learning_rate': 0.1,\n",
    "    'max_depth': 2,\n",
    "    'n_estimators': 60,\n",
    "    'num_leaves': 30\n",
    "}\n",
    "\n",
    "ensemble = XGBoostEnsemble(params)\n",
    "ensemble.fit(train_set)\n",
    "\n",
    "my_preds = ensemble.predict(val_set.X)\n",
    "clf_preds = ensemble.clf.predict(val_set.X)"
   ]
  },
  {
   "cell_type": "markdown",
   "metadata": {},
   "source": [
    "# Categorical feature"
   ]
  },
  {
   "cell_type": "code",
   "execution_count": 40,
   "metadata": {},
   "outputs": [
    {
     "name": "stdout",
     "output_type": "stream",
     "text": [
      "Accuracy = 0.6\n"
     ]
    }
   ],
   "source": [
    "from sklearn.metrics import accuracy_score\n",
    "\n",
    "train_set, val_set = Dataset.from_openml('aids').split(0.5)\n",
    "train_set = train_set.oh_encoded()\n",
    "\n",
    "params = {\n",
    "    'learning_rate': 0.1,\n",
    "    'max_depth': 2,\n",
    "    'n_estimators': 60,\n",
    "    'num_leaves': 30\n",
    "}\n",
    "\n",
    "ensemble = XGBoostEnsemble(params)\n",
    "ensemble.fit(train_set)\n",
    "\n",
    "my_preds = ensemble.predict(val_set.X)\n",
    "clf_preds = ensemble.clf.predict(val_set.X)\n",
    "y_true = val_set.y\n",
    "\n",
    "print(f'Accuracy = {accuracy_score(val_set.y, clf_preds)}')"
   ]
  },
  {
   "cell_type": "code",
   "execution_count": null,
   "metadata": {},
   "outputs": [],
   "source": [
    "# Encoded\n",
    "enc_set"
   ]
  }
 ],
 "metadata": {
  "kernelspec": {
   "display_name": "Python 3",
   "language": "python",
   "name": "python3"
  },
  "language_info": {
   "codemirror_mode": {
    "name": "ipython",
    "version": 3
   },
   "file_extension": ".py",
   "mimetype": "text/x-python",
   "name": "python",
   "nbconvert_exporter": "python",
   "pygments_lexer": "ipython3",
   "version": "3.6.6"
  }
 },
 "nbformat": 4,
 "nbformat_minor": 2
}
