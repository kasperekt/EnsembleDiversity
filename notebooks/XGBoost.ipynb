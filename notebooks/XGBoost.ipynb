{
 "cells": [
  {
   "cell_type": "code",
   "execution_count": 1,
   "metadata": {},
   "outputs": [],
   "source": [
    "from utils import prepare_jupyter\n",
    "prepare_jupyter()"
   ]
  },
  {
   "cell_type": "code",
   "execution_count": 2,
   "metadata": {},
   "outputs": [
    {
     "name": "stderr",
     "output_type": "stream",
     "text": [
      "/Users/tomek/.virtualenvs/masters/lib/python3.6/site-packages/lightgbm/__init__.py:47: UserWarning: Starting from version 2.2.1, the library file in distribution wheels for macOS is built by the Apple Clang (Xcode_8.3.3) compiler.\n",
      "This means that in case of installing LightGBM from PyPI via the ``pip install lightgbm`` command, you don't need to install the gcc compiler anymore.\n",
      "Instead of that, you need to install the OpenMP library, which is required for running LightGBM on the system with the Apple Clang compiler.\n",
      "You can install the OpenMP library by the following command: ``brew install libomp``.\n",
      "  \"You can install the OpenMP library by the following command: ``brew install libomp``.\", UserWarning)\n"
     ]
    }
   ],
   "source": [
    "import numpy as np\n",
    "import xgboost as xgb\n",
    "import matplotlib.pyplot as plt\n",
    "\n",
    "from matplotlib.pylab import rcParams\n",
    "from structure import Dataset\n",
    "\n",
    "rcParams['figure.figsize'] = 12, 10\n",
    "\n",
    "# train_set, val_set = Dataset.create_cancer().split(0.5)\n",
    "train_set, val_set = Dataset.create_iris().split(0.5)"
   ]
  },
  {
   "cell_type": "code",
   "execution_count": null,
   "metadata": {},
   "outputs": [],
   "source": [
    "params = {\n",
    "    'n_estimators': 3,\n",
    "    'max_depth': 5\n",
    "}\n",
    "\n",
    "clf = xgb.XGBClassifier(**params)\n",
    "clf.fit(train_set.X, train_set.y)\n",
    "\n",
    "clf.predict(val_set.X)"
   ]
  },
  {
   "cell_type": "code",
   "execution_count": null,
   "metadata": {},
   "outputs": [],
   "source": [
    "clf.n_estimators"
   ]
  },
  {
   "cell_type": "code",
   "execution_count": null,
   "metadata": {},
   "outputs": [],
   "source": [
    "from structure.xgboost import XGBoostTree\n",
    "\n",
    "# This is the best way to retrieve info about node (I can get additional data from `trees_to_dataframe`)\n",
    "gv = xgb.to_graphviz(clf, num_trees=1)\n",
    "\n",
    "xgb_tree = XGBoostTree.parse(str(gv), train_set)\n",
    "\n",
    "xgb_preds = xgb_tree.predict(val_set.X)\n",
    "xgb_preds"
   ]
  },
  {
   "cell_type": "code",
   "execution_count": null,
   "metadata": {},
   "outputs": [],
   "source": [
    "plt.figure(figsize=(16, 10))\n",
    "xgb.to_graphviz(clf).render()"
   ]
  },
  {
   "cell_type": "code",
   "execution_count": null,
   "metadata": {},
   "outputs": [],
   "source": [
    "clf.get_booster().get_dump()[0]"
   ]
  },
  {
   "cell_type": "code",
   "execution_count": null,
   "metadata": {},
   "outputs": [],
   "source": [
    "booster = clf.get_booster()"
   ]
  },
  {
   "cell_type": "code",
   "execution_count": null,
   "metadata": {},
   "outputs": [],
   "source": [
    "booster.trees_to_dataframe().head(n=13)"
   ]
  },
  {
   "cell_type": "code",
   "execution_count": null,
   "metadata": {},
   "outputs": [],
   "source": [
    "from math import ceil, log2\n",
    "\n",
    "trees_df = booster.trees_to_dataframe()\n",
    "first_tree = trees_df[trees_df['Tree'] == 0]\n",
    "nodes = first_tree\n",
    "\n",
    "def get_info(node):\n",
    "    node_id = node[1]\n",
    "    node_type = 'leaf' if node[3] == 'Leaf' else 'split'\n",
    "    feature_idx = node[3][1:]\n",
    "    value = node[8]\n",
    "    cover = node[9]\n",
    "    \n",
    "    return {\n",
    "        'id': node[1],\n",
    "        'type': node_type,\n",
    "        'feature_idx': int(feature_idx) if node_type == 'split' else None,\n",
    "        'value': value,\n",
    "        'count': int(node[9])\n",
    "    }\n",
    "\n",
    "\n",
    "def divide_nodes(nodes):\n",
    "    n = len(nodes)\n",
    "    sizes = map(lambda x: 2 ** x, range(0, int(ceil(log2(n)))))\n",
    "    transformed = np.array([get_info(node) for node in nodes])\n",
    "    \n",
    "    divided_nodes = []\n",
    "    tmp_nodes = transformed.copy()\n",
    "    \n",
    "    for size in sizes:\n",
    "        nodes_slice = tmp_nodes[:size]\n",
    "        tmp_nodes = tmp_nodes[size:]\n",
    "        divided_nodes.append(nodes_slice)\n",
    "        \n",
    "    return divided_nodes\n",
    "    \n",
    "divided = divide_nodes(nodes.values)\n",
    "divided"
   ]
  },
  {
   "cell_type": "code",
   "execution_count": null,
   "metadata": {},
   "outputs": [],
   "source": [
    "leaf_str = 'leaf=-0.0697674453'\n",
    "float(leaf_str.split('=')[1])"
   ]
  },
  {
   "cell_type": "markdown",
   "metadata": {},
   "source": [
    "# XGBoost Ensemble testing\n",
    "\n",
    "Wykorzystanie własnej struktury do ewaluacji"
   ]
  },
  {
   "cell_type": "code",
   "execution_count": 13,
   "metadata": {},
   "outputs": [],
   "source": [
    "from structure.xgboost import XGBoostEnsemble\n",
    "\n",
    "params = {\n",
    "    'n_estimators': 3,\n",
    "    'max_depth': 5\n",
    "}\n",
    "\n",
    "xgb_ensemble = XGBoostEnsemble(params)"
   ]
  },
  {
   "cell_type": "code",
   "execution_count": 22,
   "metadata": {},
   "outputs": [
    {
     "data": {
      "text/plain": [
       "array([ True,  True,  True,  True,  True,  True,  True,  True,  True,\n",
       "        True,  True,  True,  True,  True,  True,  True,  True,  True,\n",
       "        True,  True,  True,  True,  True,  True,  True,  True,  True,\n",
       "        True,  True,  True,  True,  True,  True,  True,  True,  True,\n",
       "        True,  True,  True,  True,  True,  True,  True,  True,  True,\n",
       "        True,  True,  True,  True,  True,  True,  True,  True,  True,\n",
       "        True,  True,  True,  True,  True,  True,  True,  True,  True,\n",
       "        True,  True,  True,  True,  True,  True,  True,  True,  True,\n",
       "        True,  True,  True,  True,  True,  True,  True,  True,  True,\n",
       "        True,  True,  True,  True,  True,  True,  True,  True,  True,\n",
       "        True,  True,  True,  True,  True,  True,  True,  True,  True,\n",
       "        True,  True,  True,  True,  True,  True,  True,  True,  True,\n",
       "        True,  True,  True,  True,  True,  True,  True,  True,  True,\n",
       "        True,  True,  True,  True,  True,  True,  True,  True,  True,\n",
       "        True,  True,  True,  True,  True,  True,  True,  True,  True])"
      ]
     },
     "execution_count": 22,
     "metadata": {},
     "output_type": "execute_result"
    }
   ],
   "source": [
    "iris_train, iris_val = Dataset.create_iris().split(0.90)\n",
    "cancer_train, cancer_val = Dataset.create_cancer().split(0.90)\n",
    "\n",
    "xgb_ensemble.fit(iris_train)\n",
    "\n",
    "X_test = iris_val.X\n",
    "y_test = iris_val.y\n",
    "\n",
    "my_preds_raw = xgb_ensemble.predict_proba(X_test)\n",
    "clf_preds_raw = xgb_ensemble.clf.predict_proba(X_test)\n",
    "\n",
    "my_preds_cls = xgb_ensemble.predict(X_test)\n",
    "clf_preds_cls = xgb_ensemble.predict(X_test)"
   ]
  },
  {
   "cell_type": "code",
   "execution_count": null,
   "metadata": {},
   "outputs": [],
   "source": []
  }
 ],
 "metadata": {
  "kernelspec": {
   "display_name": "Python 3",
   "language": "python",
   "name": "python3"
  },
  "language_info": {
   "codemirror_mode": {
    "name": "ipython",
    "version": 3
   },
   "file_extension": ".py",
   "mimetype": "text/x-python",
   "name": "python",
   "nbconvert_exporter": "python",
   "pygments_lexer": "ipython3",
   "version": "3.6.6"
  }
 },
 "nbformat": 4,
 "nbformat_minor": 2
}
