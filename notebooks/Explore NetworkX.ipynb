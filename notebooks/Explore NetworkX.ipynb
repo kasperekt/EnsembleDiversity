{
 "cells": [
  {
   "cell_type": "code",
   "execution_count": 73,
   "metadata": {},
   "outputs": [],
   "source": [
    "import networkx as nx\n",
    "import pygraphviz as pgv"
   ]
  },
  {
   "cell_type": "code",
   "execution_count": 74,
   "metadata": {},
   "outputs": [],
   "source": [
    "G = nx.DiGraph()\n",
    "G.add_node('Jeden', value=10, data='Hello')\n",
    "G.add_node('Dwa', value=20, data='World')\n",
    "G.add_node('Trzy', value=20, data='World')\n",
    "G.add_node('Cztery', value=20, data='World')\n",
    "G.add_edge('Jeden', 'Dwa', value=15)\n",
    "G.add_edge('Dwa', 'Cztery', value=15)\n",
    "G.add_edge('Cztery', 'Trzy', value=1)\n",
    "G.add_edge('Trzy', 'Dwa', value=1)"
   ]
  },
  {
   "cell_type": "code",
   "execution_count": 75,
   "metadata": {},
   "outputs": [
    {
     "name": "stdout",
     "output_type": "stream",
     "text": [
      "Node \"Jeden\" with data {'value': 10, 'data': 'Hello'}\n",
      "Node \"Dwa\" with data {'value': 20, 'data': 'World'}\n",
      "Node \"Trzy\" with data {'value': 20, 'data': 'World'}\n",
      "Node \"Cztery\" with data {'value': 20, 'data': 'World'}\n",
      "('Jeden', 'Dwa', {'value': 15})\n",
      "('Dwa', 'Cztery', {'value': 15})\n",
      "('Trzy', 'Dwa', {'value': 1})\n",
      "('Cztery', 'Trzy', {'value': 1})\n"
     ]
    }
   ],
   "source": [
    "for node_name, node_data in G.nodes(data=True):\n",
    "    print(f'Node \"{node_name}\" with data {node_data}')\n",
    "    \n",
    "for edge in G.edges(data=True):\n",
    "    print(edge)"
   ]
  },
  {
   "cell_type": "code",
   "execution_count": 76,
   "metadata": {},
   "outputs": [],
   "source": [
    "A = nx.nx_agraph.to_agraph(G)\n",
    "A.write('A.dot')"
   ]
  },
  {
   "cell_type": "code",
   "execution_count": 78,
   "metadata": {},
   "outputs": [
    {
     "data": {
      "text/plain": [
       "b'strict digraph \"\" {\\n\\tgraph [bb=\"0,0,94.921,252\"];\\n\\tnode [label=\"\\\\N\"];\\n\\tJeden\\t [data=Hello,\\n\\t\\theight=0.5,\\n\\t\\tpos=\"64.679,234\",\\n\\t\\tvalue=10,\\n\\t\\twidth=0.84006];\\n\\tDwa\\t [data=World,\\n\\t\\theight=0.5,\\n\\t\\tpos=\"64.679,162\",\\n\\t\\tvalue=20,\\n\\t\\twidth=0.75];\\n\\tJeden -> Dwa\\t [pos=\"e,64.679,180.41 64.679,215.83 64.679,208.13 64.679,198.97 64.679,190.42\",\\n\\t\\tvalue=15];\\n\\tCztery\\t [data=World,\\n\\t\\theight=0.5,\\n\\t\\tpos=\"33.679,90\",\\n\\t\\tvalue=20,\\n\\t\\twidth=0.93554];\\n\\tDwa -> Cztery\\t [pos=\"e,41.33,107.77 57.175,144.57 53.611,136.29 49.27,126.21 45.294,116.98\",\\n\\t\\tvalue=15];\\n\\tTrzy\\t [data=World,\\n\\t\\theight=0.5,\\n\\t\\tpos=\"64.679,18\",\\n\\t\\tvalue=20,\\n\\t\\twidth=0.75];\\n\\tCztery -> Trzy\\t [pos=\"e,57.212,35.345 41.342,72.202 44.897,63.945 49.199,53.954 53.136,44.811\",\\n\\t\\tvalue=1];\\n\\tTrzy -> Dwa\\t [pos=\"e,69.673,144.16 69.673,35.836 72.338,46.281 75.338,59.781 76.679,72 78.425,87.904 78.425,92.096 76.679,108 75.736,116.59 73.973,\\\\\\n125.82 72.083,134.17\",\\n\\t\\tvalue=1];\\n}\\n'"
      ]
     },
     "execution_count": 78,
     "metadata": {},
     "output_type": "execute_result"
    }
   ],
   "source": [
    "graph = pgv.AGraph('A.dot')\n",
    "graph.layout(prog='dot')\n",
    "graph.draw()"
   ]
  },
  {
   "cell_type": "code",
   "execution_count": null,
   "metadata": {},
   "outputs": [],
   "source": []
  }
 ],
 "metadata": {
  "kernelspec": {
   "display_name": "Python 3",
   "language": "python",
   "name": "python3"
  },
  "language_info": {
   "codemirror_mode": {
    "name": "ipython",
    "version": 3
   },
   "file_extension": ".py",
   "mimetype": "text/x-python",
   "name": "python",
   "nbconvert_exporter": "python",
   "pygments_lexer": "ipython3",
   "version": "3.6.6"
  }
 },
 "nbformat": 4,
 "nbformat_minor": 2
}
