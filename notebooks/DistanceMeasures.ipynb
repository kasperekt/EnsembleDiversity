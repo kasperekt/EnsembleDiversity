{
 "cells": [
  {
   "cell_type": "code",
   "execution_count": 1,
   "metadata": {},
   "outputs": [],
   "source": [
    "from utils import prepare_jupyter\n",
    "prepare_jupyter()"
   ]
  },
  {
   "cell_type": "code",
   "execution_count": null,
   "metadata": {},
   "outputs": [
    {
     "name": "stderr",
     "output_type": "stream",
     "text": [
      "/Users/tomek/.virtualenvs/masters/lib/python3.6/site-packages/lightgbm/__init__.py:47: UserWarning: Starting from version 2.2.1, the library file in distribution wheels for macOS is built by the Apple Clang (Xcode_8.3.3) compiler.\n",
      "This means that in case of installing LightGBM from PyPI via the ``pip install lightgbm`` command, you don't need to install the gcc compiler anymore.\n",
      "Instead of that, you need to install the OpenMP library, which is required for running LightGBM on the system with the Apple Clang compiler.\n",
      "You can install the OpenMP library by the following command: ``brew install libomp``.\n",
      "  \"You can install the OpenMP library by the following command: ``brew install libomp``.\", UserWarning)\n"
     ]
    }
   ],
   "source": [
    "import numpy as np\n",
    "import networkx as nx\n",
    "\n",
    "from IPython.display import Image\n",
    "from structure import RandomForestEnsemble\n",
    "from data import Dataset\n",
    "\n",
    "train_set, val_set = Dataset.create_iris().split(0.2)\n",
    "\n",
    "params = {\n",
    "    'n_estimators': 5,\n",
    "    'max_depth': 2\n",
    "}\n",
    "\n",
    "rf = RandomForestEnsemble(params)\n",
    "rf.fit(train_set)\n",
    "\n",
    "tree_a, tree_b = rf.trees[0], rf.trees[4]"
   ]
  },
  {
   "cell_type": "code",
   "execution_count": null,
   "metadata": {},
   "outputs": [],
   "source": [
    "from itertools import product\n",
    "\n",
    "# nx_a = tree_a.tree\n",
    "# nx_b = tree_b.tree\n",
    "\n",
    "def compare_nodes(node_a, node_b):\n",
    "    if node_a['is_leaf'] and node_b['is_leaf']:\n",
    "        return node_a['target'] == node_b['target']\n",
    "    elif not node_a['is_leaf'] and not node_b['is_leaf']:\n",
    "        return node_a['threshold'] == node_b['threshold'] and node_a['feature'] == node_b['feature']\n",
    "    \n",
    "    return False\n",
    "\n",
    "results = []\n",
    "for tree_a, tree_b in product(rf.trees, rf.trees):\n",
    "    if tree_a == tree_b:\n",
    "        continue\n",
    "        \n",
    "    result = nx.graph_edit_distance(tree_a.tree, tree_b.tree, node_match=compare_nodes)\n",
    "    results.append(results)\n",
    "    \n",
    "results = np.array(results)\n",
    "# nx.graph_edit_distance(nx_a, nx_b, node_match=compare_nodes)"
   ]
  },
  {
   "cell_type": "code",
   "execution_count": null,
   "metadata": {},
   "outputs": [],
   "source": [
    "def same_nodes_similarity(tree_a, tree_b):\n",
    "    # TODO\n",
    "    pass"
   ]
  }
 ],
 "metadata": {
  "kernelspec": {
   "display_name": "Python 3",
   "language": "python",
   "name": "python3"
  },
  "language_info": {
   "codemirror_mode": {
    "name": "ipython",
    "version": 3
   },
   "file_extension": ".py",
   "mimetype": "text/x-python",
   "name": "python",
   "nbconvert_exporter": "python",
   "pygments_lexer": "ipython3",
   "version": "3.6.6"
  }
 },
 "nbformat": 4,
 "nbformat_minor": 2
}
