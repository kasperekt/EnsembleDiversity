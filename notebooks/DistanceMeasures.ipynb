{
 "cells": [
  {
   "cell_type": "code",
   "execution_count": 1,
   "metadata": {},
   "outputs": [],
   "source": [
    "from utils import prepare_jupyter\n",
    "prepare_jupyter()"
   ]
  },
  {
   "cell_type": "code",
   "execution_count": 24,
   "metadata": {},
   "outputs": [],
   "source": [
    "import numpy as np\n",
    "import networkx as nx\n",
    "\n",
    "from IPython.display import Image\n",
    "from structure import RandomForestEnsemble, Dataset\n",
    "\n",
    "train_set, val_set = Dataset.create_iris().split(0.2)\n",
    "\n",
    "params = {\n",
    "    'n_estimators': 100,\n",
    "    'max_depth': 2\n",
    "}\n",
    "\n",
    "rf = RandomForestEnsemble(params)\n",
    "rf.fit(train_set)\n",
    "\n",
    "tree_a, tree_b = rf.trees[2], rf.trees[4]"
   ]
  },
  {
   "cell_type": "code",
   "execution_count": null,
   "metadata": {},
   "outputs": [],
   "source": [
    "# from itertools import product\n",
    "\n",
    "# # nx_a = tree_a.tree\n",
    "# # nx_b = tree_b.tree\n",
    "\n",
    "# def compare_nodes(node_a, node_b):\n",
    "#     if node_a['is_leaf'] and node_b['is_leaf']:\n",
    "#         return node_a['target'] == node_b['target']\n",
    "#     elif not node_a['is_leaf'] and not node_b['is_leaf']:\n",
    "#         return node_a['threshold'] == node_b['threshold'] and node_a['feature'] == node_b['feature']\n",
    "    \n",
    "#     return False\n",
    "\n",
    "# results = []\n",
    "# for tree_a, tree_b in product(rf.trees, rf.trees):\n",
    "#     if tree_a == tree_b:\n",
    "#         continue\n",
    "        \n",
    "#     result = nx.graph_edit_distance(tree_a.tree, tree_b.tree, node_match=compare_nodes)\n",
    "#     results.append(results)\n",
    "    \n",
    "# results = np.array(results)\n",
    "# # nx.graph_edit_distance(nx_a, nx_b, node_match=compare_nodes)"
   ]
  },
  {
   "cell_type": "code",
   "execution_count": 3,
   "metadata": {},
   "outputs": [
    {
     "data": {
      "text/plain": [
       "({'0__5.950000047683716__$<=',\n",
       "  '2__5.400000095367432__$<=',\n",
       "  '3__0.800000011920929__$<=',\n",
       "  '3__1.75__$<='},\n",
       " {'2__2.350000023841858__$<=', '3__1.550000011920929__$<=', '3__1.75__$<='})"
      ]
     },
     "execution_count": 3,
     "metadata": {},
     "output_type": "execute_result"
    }
   ],
   "source": [
    "tree_a.used_attrs, tree_b.used_attrs"
   ]
  },
  {
   "cell_type": "code",
   "execution_count": 4,
   "metadata": {},
   "outputs": [
    {
     "ename": "AttributeError",
     "evalue": "'RandomForestEnsemble' object has no attribute 'used_attr_diversity'",
     "output_type": "error",
     "traceback": [
      "\u001b[0;31m--------------------------------------------------------------------------\u001b[0m",
      "\u001b[0;31mAttributeError\u001b[0m                           Traceback (most recent call last)",
      "\u001b[0;32m<ipython-input-4-fa5e6aae486d>\u001b[0m in \u001b[0;36m<module>\u001b[0;34m\u001b[0m\n\u001b[0;32m----> 1\u001b[0;31m \u001b[0mrf\u001b[0m\u001b[0;34m.\u001b[0m\u001b[0mused_attr_diversity\u001b[0m\u001b[0;34m(\u001b[0m\u001b[0;34m)\u001b[0m\u001b[0;34m,\u001b[0m \u001b[0mrf\u001b[0m\u001b[0;34m.\u001b[0m\u001b[0mused_feature_diversity\u001b[0m\u001b[0;34m(\u001b[0m\u001b[0;34m)\u001b[0m\u001b[0;34m\u001b[0m\u001b[0m\n\u001b[0m",
      "\u001b[0;31mAttributeError\u001b[0m: 'RandomForestEnsemble' object has no attribute 'used_attr_diversity'"
     ]
    }
   ],
   "source": [
    "rf.used_attr_diversity(), rf.used_feature_diversity()"
   ]
  },
  {
   "cell_type": "code",
   "execution_count": 37,
   "metadata": {},
   "outputs": [],
   "source": [
    "def get_mcs(G_source, G_new):\n",
    "    matching_graph = nx.DiGraph()\n",
    "\n",
    "    for n1, n2, _ in G_new.edges(data=True):\n",
    "        if G_source.has_edge(n1, n2):\n",
    "            matching_graph.add_edge(n1, n2, weight=1)\n",
    "\n",
    "    graphs = list(nx.strongly_connected_component_subgraphs(matching_graph))\n",
    "\n",
    "    mcs_length = 0\n",
    "    mcs_graph = nx.DiGraph()\n",
    "    \n",
    "    for graph in graphs:\n",
    "        if len(graph.nodes()) > mcs_length:\n",
    "            mcs_length = len(graph.nodes())\n",
    "            mcs_graph = graph\n",
    "\n",
    "    return mcs_graph"
   ]
  },
  {
   "cell_type": "code",
   "execution_count": 38,
   "metadata": {},
   "outputs": [
    {
     "data": {
      "text/plain": [
       "<networkx.classes.digraph.DiGraph at 0x117836320>"
      ]
     },
     "execution_count": 38,
     "metadata": {},
     "output_type": "execute_result"
    }
   ],
   "source": [
    "new_g = get_mcs(tree_a.tree, tree_b.tree)\n",
    "new_g"
   ]
  },
  {
   "cell_type": "code",
   "execution_count": 39,
   "metadata": {},
   "outputs": [],
   "source": [
    "tree_a.draw('here.png')"
   ]
  },
  {
   "cell_type": "code",
   "execution_count": 40,
   "metadata": {},
   "outputs": [],
   "source": [
    "tree_b.draw('here_b.png')"
   ]
  },
  {
   "cell_type": "code",
   "execution_count": 41,
   "metadata": {},
   "outputs": [
    {
     "data": {
      "text/plain": [
       "(NodeView(('Leaf_1',)), OutEdgeView([]))"
      ]
     },
     "execution_count": 41,
     "metadata": {},
     "output_type": "execute_result"
    }
   ],
   "source": [
    "new_g.nodes(), new_g.edges()"
   ]
  },
  {
   "cell_type": "code",
   "execution_count": 43,
   "metadata": {},
   "outputs": [
    {
     "data": {
      "text/plain": [
       "1"
      ]
     },
     "execution_count": 43,
     "metadata": {},
     "output_type": "execute_result"
    }
   ],
   "source": [
    "results = []\n",
    "\n",
    "for i in range(len(rf)):\n",
    "    tree_i = rf.trees[i].tree\n",
    "    for j in range(i, len(rf)):\n",
    "        tree_j = rf.trees[j].tree\n",
    "    \n",
    "        results.append(get_mcs(tree_i, tree_j))\n",
    "        \n",
    "max([len(x.nodes()) for x in results])\n"
   ]
  },
  {
   "cell_type": "code",
   "execution_count": null,
   "metadata": {},
   "outputs": [],
   "source": []
  }
 ],
 "metadata": {
  "kernelspec": {
   "display_name": "Python 3",
   "language": "python",
   "name": "python3"
  },
  "language_info": {
   "codemirror_mode": {
    "name": "ipython",
    "version": 3
   },
   "file_extension": ".py",
   "mimetype": "text/x-python",
   "name": "python",
   "nbconvert_exporter": "python",
   "pygments_lexer": "ipython3",
   "version": "3.6.6"
  }
 },
 "nbformat": 4,
 "nbformat_minor": 2
}
