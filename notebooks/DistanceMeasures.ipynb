{
 "cells": [
  {
   "cell_type": "code",
   "execution_count": 1,
   "metadata": {},
   "outputs": [],
   "source": [
    "from utils import prepare_jupyter\n",
    "prepare_jupyter()"
   ]
  },
  {
   "cell_type": "code",
   "execution_count": 14,
   "metadata": {},
   "outputs": [],
   "source": [
    "import numpy as np\n",
    "import networkx as nx\n",
    "\n",
    "from IPython.display import Image\n",
    "from structure import RandomForestEnsemble, Dataset\n",
    "\n",
    "train_set, val_set = Dataset.create_iris().split(0.2)\n",
    "\n",
    "params = {\n",
    "    'n_estimators': 1000,\n",
    "    'max_depth': 10\n",
    "}\n",
    "\n",
    "rf = RandomForestEnsemble(params)\n",
    "rf.fit(train_set)\n",
    "\n",
    "tree_a, tree_b = rf.trees[0], rf.trees[4]"
   ]
  },
  {
   "cell_type": "code",
   "execution_count": null,
   "metadata": {},
   "outputs": [],
   "source": [
    "from itertools import product\n",
    "\n",
    "# nx_a = tree_a.tree\n",
    "# nx_b = tree_b.tree\n",
    "\n",
    "def compare_nodes(node_a, node_b):\n",
    "    if node_a['is_leaf'] and node_b['is_leaf']:\n",
    "        return node_a['target'] == node_b['target']\n",
    "    elif not node_a['is_leaf'] and not node_b['is_leaf']:\n",
    "        return node_a['threshold'] == node_b['threshold'] and node_a['feature'] == node_b['feature']\n",
    "    \n",
    "    return False\n",
    "\n",
    "results = []\n",
    "for tree_a, tree_b in product(rf.trees, rf.trees):\n",
    "    if tree_a == tree_b:\n",
    "        continue\n",
    "        \n",
    "    result = nx.graph_edit_distance(tree_a.tree, tree_b.tree, node_match=compare_nodes)\n",
    "    results.append(results)\n",
    "    \n",
    "results = np.array(results)\n",
    "# nx.graph_edit_distance(nx_a, nx_b, node_match=compare_nodes)"
   ]
  },
  {
   "cell_type": "code",
   "execution_count": 9,
   "metadata": {},
   "outputs": [
    {
     "data": {
      "text/plain": [
       "({'1__2.649999976158142__$<=',\n",
       "  '1__2.75__$<=',\n",
       "  '1__3.049999952316284__$<=',\n",
       "  '2__2.599999964237213__$<=',\n",
       "  '2__4.950000047683716__$<=',\n",
       "  '2__5.049999952316284__$<=',\n",
       "  '3__1.649999976158142__$<=',\n",
       "  '3__1.75__$<='},\n",
       " {'2__2.449999988079071__$<=',\n",
       "  '2__4.950000047683716__$<=',\n",
       "  '2__5.450000047683716__$<=',\n",
       "  '3__1.550000011920929__$<=',\n",
       "  '3__1.6500000357627869__$<='})"
      ]
     },
     "execution_count": 9,
     "metadata": {},
     "output_type": "execute_result"
    }
   ],
   "source": [
    "tree_a.used_attrs, tree_b.used_attrs"
   ]
  },
  {
   "cell_type": "code",
   "execution_count": 15,
   "metadata": {},
   "outputs": [
    {
     "data": {
      "text/plain": [
       "(0.12866870749762946, 0.16839220405898042)"
      ]
     },
     "execution_count": 15,
     "metadata": {},
     "output_type": "execute_result"
    }
   ],
   "source": [
    "rf.used_attr_diversity(), rf.used_feature_diversity()"
   ]
  },
  {
   "cell_type": "code",
   "execution_count": null,
   "metadata": {},
   "outputs": [],
   "source": []
  }
 ],
 "metadata": {
  "kernelspec": {
   "display_name": "Python 3",
   "language": "python",
   "name": "python3"
  },
  "language_info": {
   "codemirror_mode": {
    "name": "ipython",
    "version": 3
   },
   "file_extension": ".py",
   "mimetype": "text/x-python",
   "name": "python",
   "nbconvert_exporter": "python",
   "pygments_lexer": "ipython3",
   "version": "3.6.6"
  }
 },
 "nbformat": 4,
 "nbformat_minor": 2
}
