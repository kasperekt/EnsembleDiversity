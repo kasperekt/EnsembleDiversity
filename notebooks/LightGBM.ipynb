{
 "cells": [
  {
   "cell_type": "code",
   "execution_count": 1,
   "metadata": {},
   "outputs": [],
   "source": [
    "from utils import prepare_jupyter\n",
    "prepare_jupyter()"
   ]
  },
  {
   "cell_type": "code",
   "execution_count": 64,
   "metadata": {},
   "outputs": [],
   "source": [
    "import numpy as np\n",
    "import lightgbm as lgb\n",
    "\n",
    "from scipy.special import softmax\n",
    "from sklearn.datasets import load_iris\n",
    "from sklearn.model_selection import train_test_split\n",
    "\n",
    "from structure.Dataset import Dataset\n",
    "from parser.lightgbm import parse_lightgbm\n",
    "from extract import get_lgb_trees"
   ]
  },
  {
   "cell_type": "code",
   "execution_count": 65,
   "metadata": {},
   "outputs": [],
   "source": [
    "iris = load_iris()\n",
    "X_train, X_val, y_train, y_val = train_test_split(iris.data, iris.target, test_size=0.2)\n",
    "iris_data = Dataset(X_train, y_train, iris.feature_names, iris.target_names)\n",
    "\n",
    "n_estimators = 5\n",
    "clf = lgb.LGBMClassifier(n_estimators=n_estimators, objective='softmax')\n",
    "clf.fit(X_train, y_train)\n",
    "\n",
    "trees = parse_lightgbm(clf, iris_data)"
   ]
  },
  {
   "cell_type": "code",
   "execution_count": 66,
   "metadata": {},
   "outputs": [
    {
     "name": "stdout",
     "output_type": "stream",
     "text": [
      "Shape = (15, 30)\n"
     ]
    }
   ],
   "source": [
    "trees_preds = np.array([tree.predict(X_val) for tree in trees])\n",
    "print(f'Shape = {trees_preds.shape}')"
   ]
  },
  {
   "cell_type": "markdown",
   "metadata": {},
   "source": [
    "## Jak LightGBM działa\n",
    "\n",
    "* Softmax na wartościach `leaf_value` jeśli `objective='multiclass'`\n",
    "* Suma leaf_value: Podzielone w taki sposób dla klas A, B oraz C: [A, B, C, A, B, C, ...]"
   ]
  },
  {
   "cell_type": "code",
   "execution_count": 67,
   "metadata": {},
   "outputs": [
    {
     "name": "stdout",
     "output_type": "stream",
     "text": [
      "(15,)\n",
      "[[-1.1042137  -0.99861272 -1.19800417]\n",
      " [-0.0747298   0.13038377 -0.07151707]\n",
      " [-0.07195114  0.11231368 -0.06931541]\n",
      " [-0.06950033  0.10145332 -0.06742889]\n",
      " [-0.06738723  0.09276975 -0.06573405]]\n"
     ]
    }
   ],
   "source": [
    "clf_preds = clf.predict(X_val)\n",
    "\n",
    "which = 0\n",
    "preds = trees_preds[:, which]\n",
    "y_true = y_val[which]\n",
    "y_clf = clf_preds[which]\n",
    "\n",
    "print(preds.shape)\n",
    "preds = preds.reshape((n_estimators, len(iris.target_names)))\n",
    "print(preds)\n",
    "probs = softmax(np.sum(preds, axis=0))"
   ]
  },
  {
   "cell_type": "code",
   "execution_count": 68,
   "metadata": {},
   "outputs": [
    {
     "name": "stdout",
     "output_type": "stream",
     "text": [
      "Is 1, clf says 1, should be 1\n"
     ]
    }
   ],
   "source": [
    "print(f'Is {np.argmax(probs)}, clf says {y_clf}, should be {y_true}')"
   ]
  },
  {
   "cell_type": "code",
   "execution_count": 69,
   "metadata": {},
   "outputs": [
    {
     "data": {
      "text/plain": [
       "(array([[0.23789129, 0.54343157, 0.21867714]]),\n",
       " array([0.23789129, 0.54343157, 0.21867714]))"
      ]
     },
     "execution_count": 69,
     "metadata": {},
     "output_type": "execute_result"
    }
   ],
   "source": [
    "clf.predict_proba([X_val[which]]), probs"
   ]
  },
  {
   "cell_type": "code",
   "execution_count": 76,
   "metadata": {},
   "outputs": [
    {
     "data": {
      "text/plain": [
       "array([[0.23789129, 0.54343157, 0.21867714],\n",
       "       [0.24899423, 0.25013052, 0.50087525],\n",
       "       [0.24499309, 0.52964702, 0.22535989],\n",
       "       [0.57759978, 0.20873435, 0.21366587],\n",
       "       [0.57759978, 0.20873435, 0.21366587],\n",
       "       [0.58205075, 0.20658375, 0.2113655 ],\n",
       "       [0.57759978, 0.20873435, 0.21366587],\n",
       "       [0.23789129, 0.54343157, 0.21867714],\n",
       "       [0.24913077, 0.25008504, 0.50078418],\n",
       "       [0.57076505, 0.21207781, 0.21715714],\n",
       "       [0.2378794 , 0.54340442, 0.21871618],\n",
       "       [0.23776124, 0.54353117, 0.21870759],\n",
       "       [0.30110203, 0.42205227, 0.27684569],\n",
       "       [0.23250995, 0.21275609, 0.55473396],\n",
       "       [0.24040522, 0.5384551 , 0.22113968],\n",
       "       [0.24899423, 0.25013052, 0.50087525],\n",
       "       [0.24499309, 0.52964702, 0.22535989],\n",
       "       [0.23250995, 0.21275609, 0.55473396],\n",
       "       [0.57520548, 0.20990813, 0.21488639],\n",
       "       [0.23250995, 0.21275609, 0.55473396],\n",
       "       [0.23250995, 0.21275609, 0.55473396],\n",
       "       [0.23789129, 0.54343157, 0.21867714],\n",
       "       [0.24913077, 0.25008504, 0.50078418],\n",
       "       [0.23250995, 0.21275609, 0.55473396],\n",
       "       [0.23250995, 0.21275609, 0.55473396],\n",
       "       [0.23789129, 0.54343157, 0.21867714],\n",
       "       [0.57765753, 0.20875522, 0.21358724],\n",
       "       [0.21930586, 0.33953983, 0.44115431],\n",
       "       [0.24913077, 0.25008504, 0.50078418],\n",
       "       [0.23776124, 0.54353117, 0.21870759]])"
      ]
     },
     "execution_count": 76,
     "metadata": {},
     "output_type": "execute_result"
    }
   ],
   "source": [
    "n_classes = len(iris.target_names)\n",
    "preds = np.rollaxis(trees_preds, axis=1).reshape(len(X_val), n_estimators, n_classes)\n",
    "probs = softmax(np.sum(preds, axis=1), axis=1)\n",
    "\n",
    "probs"
   ]
  },
  {
   "cell_type": "code",
   "execution_count": 79,
   "metadata": {},
   "outputs": [
    {
     "data": {
      "text/plain": [
       "(30,)"
      ]
     },
     "execution_count": 79,
     "metadata": {},
     "output_type": "execute_result"
    }
   ],
   "source": []
  },
  {
   "cell_type": "code",
   "execution_count": null,
   "metadata": {},
   "outputs": [],
   "source": []
  }
 ],
 "metadata": {
  "kernelspec": {
   "display_name": "Python 3",
   "language": "python",
   "name": "python3"
  },
  "language_info": {
   "codemirror_mode": {
    "name": "ipython",
    "version": 3
   },
   "file_extension": ".py",
   "mimetype": "text/x-python",
   "name": "python",
   "nbconvert_exporter": "python",
   "pygments_lexer": "ipython3",
   "version": "3.6.6"
  }
 },
 "nbformat": 4,
 "nbformat_minor": 2
}
