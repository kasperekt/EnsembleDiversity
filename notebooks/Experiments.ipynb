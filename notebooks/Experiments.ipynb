{
 "cells": [
  {
   "cell_type": "code",
   "execution_count": 1,
   "metadata": {},
   "outputs": [],
   "source": [
    "from utils import prepare_jupyter\n",
    "prepare_jupyter()"
   ]
  },
  {
   "cell_type": "code",
   "execution_count": 30,
   "metadata": {},
   "outputs": [],
   "source": [
    "import numpy as np\n",
    "import lightgbm as lgb\n",
    "\n",
    "from sklearn.ensemble import AdaBoostClassifier\n",
    "from sklearn.tree import DecisionTreeClassifier\n",
    "from sklearn.datasets import load_iris, load_breast_cancer\n",
    "from sklearn.metrics import accuracy_score\n",
    "from data import Dataset\n",
    "from structure import AdaboostEnsemble, RandomForestEnsemble, LGBEnsemble\n",
    "from predict import majority_voting"
   ]
  },
  {
   "cell_type": "code",
   "execution_count": 31,
   "metadata": {},
   "outputs": [],
   "source": [
    "# Data\n",
    "iris_train, iris_val = Dataset.from_sklearn('iris', load_iris()).split()\n",
    "cancer_train, cancer_val = Dataset.from_sklearn('cancer', load_breast_cancer()).split()\n",
    "\n",
    "train_data, val_data = iris_train, iris_val\n",
    "# train_data, val_data = cancer_train, cancer_val"
   ]
  },
  {
   "cell_type": "markdown",
   "metadata": {},
   "source": [
    "## Sklearn"
   ]
  },
  {
   "cell_type": "code",
   "execution_count": 34,
   "metadata": {},
   "outputs": [
    {
     "name": "stdout",
     "output_type": "stream",
     "text": [
      "[2 2 1 1 0 1 0 0 0 2 1 0 1 0 1]\n"
     ]
    },
    {
     "data": {
      "text/plain": [
       "0.8666666666666667"
      ]
     },
     "execution_count": 34,
     "metadata": {},
     "output_type": "execute_result"
    }
   ],
   "source": [
    "# Somehow it works for max_depth >=7, and not <7\n",
    "params = {\n",
    "    'max_depth': 2,\n",
    "    'n_estimators': 4\n",
    "}\n",
    "\n",
    "ensemble = AdaboostEnsemble(params)\n",
    "ensemble.fit(train_data)\n",
    "\n",
    "ensemble_preds = ensemble.predict(val_data.X)\n",
    "clf_preds = ensemble.clf_predict(val_data.X)\n",
    "print(clf_preds)\n",
    "\n",
    "accuracy_score(clf_preds, ensemble_preds)"
   ]
  },
  {
   "cell_type": "code",
   "execution_count": 35,
   "metadata": {},
   "outputs": [
    {
     "name": "stdout",
     "output_type": "stream",
     "text": [
      "[2 2 2 2 0 1 0 0 0 2 2 0 2 0 1]\n"
     ]
    },
    {
     "data": {
      "text/plain": [
       "0.8666666666666667"
      ]
     },
     "execution_count": 35,
     "metadata": {},
     "output_type": "execute_result"
    }
   ],
   "source": [
    "ensemble = RandomForestEnsemble(params)\n",
    "ensemble.fit(train_data)\n",
    "\n",
    "ensemble_preds = ensemble.predict(val_data.X)\n",
    "clf_preds = ensemble.clf_predict(val_data.X)\n",
    "print(clf_preds)\n",
    "\n",
    "accuracy_score(clf_preds, ensemble_preds)"
   ]
  },
  {
   "cell_type": "markdown",
   "metadata": {},
   "source": [
    "## Light GBM"
   ]
  },
  {
   "cell_type": "code",
   "execution_count": 25,
   "metadata": {},
   "outputs": [
    {
     "name": "stdout",
     "output_type": "stream",
     "text": [
      "[1 2 1 2 2 1 2 1 1 2 0 0 0 1 0]\n",
      "[1 2 1 2 2 1 2 1 1 2 0 0 0 1 0]\n",
      "1.0\n",
      "1.0\n",
      "Node div = 1.1055415967851332\n"
     ]
    }
   ],
   "source": [
    "ensemble = LGBEnsemble(params)\n",
    "ensemble.fit(train_data)\n",
    "\n",
    "clf_preds = ensemble.clf.predict(val_data.X)\n",
    "preds = ensemble.predict(val_data.X)\n",
    "\n",
    "print(clf_preds)\n",
    "print(preds)\n",
    "print(accuracy_score(val_data.y, preds))\n",
    "print(accuracy_score(val_data.y, clf_preds))\n",
    "print(f'Node div = {ensemble.node_diversity()}')"
   ]
  }
 ],
 "metadata": {
  "kernelspec": {
   "display_name": "Python 3",
   "language": "python",
   "name": "python3"
  },
  "language_info": {
   "codemirror_mode": {
    "name": "ipython",
    "version": 3
   },
   "file_extension": ".py",
   "mimetype": "text/x-python",
   "name": "python",
   "nbconvert_exporter": "python",
   "pygments_lexer": "ipython3",
   "version": "3.6.6"
  }
 },
 "nbformat": 4,
 "nbformat_minor": 2
}
