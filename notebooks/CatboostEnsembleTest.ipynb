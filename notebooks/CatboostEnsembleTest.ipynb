{
 "cells": [
  {
   "cell_type": "code",
   "execution_count": 1,
   "metadata": {},
   "outputs": [],
   "source": [
    "from utils import prepare_jupyter\n",
    "prepare_jupyter()"
   ]
  },
  {
   "cell_type": "code",
   "execution_count": 16,
   "metadata": {},
   "outputs": [],
   "source": [
    "import numpy as np\n",
    "\n",
    "from structure.Dataset import Dataset\n",
    "from structure.CatboostEnsemble import CatboostEnsemble\n",
    "from scipy.special import expit, softmax"
   ]
  },
  {
   "cell_type": "code",
   "execution_count": 17,
   "metadata": {},
   "outputs": [
    {
     "data": {
      "text/plain": [
       "((284, 30), (285, 30))"
      ]
     },
     "execution_count": 17,
     "metadata": {},
     "output_type": "execute_result"
    }
   ],
   "source": [
    "train_set, val_set = Dataset.create_cancer().split(0.5)\n",
    "train_set.X.shape, val_set.X.shape"
   ]
  },
  {
   "cell_type": "code",
   "execution_count": 18,
   "metadata": {},
   "outputs": [
    {
     "name": "stdout",
     "output_type": "stream",
     "text": [
      "(4,)\n",
      "(4,)\n",
      "(4,)\n"
     ]
    },
    {
     "data": {
      "text/plain": [
       "3"
      ]
     },
     "execution_count": 18,
     "metadata": {},
     "output_type": "execute_result"
    }
   ],
   "source": [
    "params = {\n",
    "    'loss_function': 'MultiClass' if train_set.name == 'iris' else 'Logloss',\n",
    "    'n_estimators': 3,\n",
    "    'verbose': False,\n",
    "    'depth': 2\n",
    "}\n",
    "\n",
    "cb_ensemble = CatboostEnsemble(params)\n",
    "cb_ensemble.fit(train_set)\n",
    "\n",
    "len(cb_ensemble.trees)"
   ]
  },
  {
   "cell_type": "code",
   "execution_count": 21,
   "metadata": {},
   "outputs": [
    {
     "name": "stdout",
     "output_type": "stream",
     "text": [
      "[ 0.72106617 -1.42103886  0.67584519 -0.38529558 -3.42835653]\n",
      "[[0.32715825 0.67284175]\n",
      " [0.80550122 0.19449878]\n",
      " [0.33718924 0.66281076]\n",
      " [0.59514969 0.40485031]\n",
      " [0.96857909 0.03142091]]\n",
      "\n",
      "[[0.32715825 0.67284175]\n",
      " [0.80550122 0.19449878]\n",
      " [0.33718924 0.66281076]\n",
      " [0.59514969 0.40485031]\n",
      " [0.96857909 0.03142091]]\n"
     ]
    }
   ],
   "source": [
    "X_test = val_set.X[0:5]\n",
    "print(cb_ensemble.predict_proba(X_test))\n",
    "print()\n",
    "print(cb_ensemble.clf.predict_proba(X_test))"
   ]
  },
  {
   "cell_type": "code",
   "execution_count": 5,
   "metadata": {},
   "outputs": [
    {
     "name": "stdout",
     "output_type": "stream",
     "text": [
      "[[-1.63952544 -1.63952544]\n",
      " [-0.81419427 -0.81419427]\n",
      " [ 0.11216574 -0.92714017]]\n",
      "\n",
      "[-2.34155397 -3.38085988]\n"
     ]
    },
    {
     "data": {
      "text/plain": [
       "array([[0.91226055, 0.08773945],\n",
       "       [0.96710097, 0.03289903]])"
      ]
     },
     "execution_count": 5,
     "metadata": {},
     "output_type": "execute_result"
    }
   ],
   "source": [
    "trees = cb_ensemble.trees\n",
    "clf = cb_ensemble.clf\n",
    "\n",
    "n_classes = len(clf._classes)\n",
    "n_estimators = clf.tree_count_\n",
    "\n",
    "preds = np.array([tree.predict(X_test) for tree in trees])\n",
    "print(preds)\n",
    "preds = np.sum(preds, axis=0)\n",
    "print()\n",
    "print(preds)\n",
    "\n",
    "if n_classes > 2:\n",
    "    results_proba = softmax(preds, axis=1)\n",
    "else:\n",
    "    results_proba = np.array([[1 - v, v] for v in expit(preds)])\n",
    "\n",
    "results_proba"
   ]
  },
  {
   "cell_type": "markdown",
   "metadata": {},
   "source": [
    "# Multiclass"
   ]
  },
  {
   "cell_type": "code",
   "execution_count": 10,
   "metadata": {},
   "outputs": [
    {
     "name": "stdout",
     "output_type": "stream",
     "text": [
      "(12,)\n",
      "(12,)\n",
      "(12,)\n"
     ]
    }
   ],
   "source": [
    "train_set, val_set = Dataset.create_iris().split(0.5)\n",
    "\n",
    "params = {\n",
    "    'loss_function': 'MultiClass',\n",
    "    'n_estimators': 3,\n",
    "    'verbose': False,\n",
    "    'depth': 2\n",
    "}\n",
    "\n",
    "cb_ensemble = CatboostEnsemble(params)\n",
    "cb_ensemble.fit(train_set)"
   ]
  },
  {
   "cell_type": "code",
   "execution_count": 15,
   "metadata": {},
   "outputs": [
    {
     "name": "stdout",
     "output_type": "stream",
     "text": [
      "[1 2]\n",
      "\n",
      "[[1.]\n",
      " [2.]]\n"
     ]
    }
   ],
   "source": [
    "print(cb_ensemble.predict(val_set.X[:2]))\n",
    "print()\n",
    "print(cb_ensemble.clf.predict(val_set.X[:2]))"
   ]
  },
  {
   "cell_type": "code",
   "execution_count": 11,
   "metadata": {},
   "outputs": [
    {
     "name": "stdout",
     "output_type": "stream",
     "text": [
      "[[[-0.01714286  0.          0.039     ]\n",
      "  [-0.01714286  0.          0.039     ]]\n",
      "\n",
      " [[-0.02016872  0.          0.03794936]\n",
      "  [-0.02016872  0.          0.03794936]]\n",
      "\n",
      " [[-0.01837497  0.          0.03166884]\n",
      "  [-0.01837497  0.          0.03166884]]]\n",
      "\n",
      "[[-0.05568654  0.          0.10861819]\n",
      " [-0.05568654  0.          0.10861819]]\n"
     ]
    },
    {
     "data": {
      "text/plain": [
       "array([[0.3090388 , 0.32673629, 0.36422491],\n",
       "       [0.3090388 , 0.32673629, 0.36422491]])"
      ]
     },
     "execution_count": 11,
     "metadata": {},
     "output_type": "execute_result"
    }
   ],
   "source": [
    "trees = cb_ensemble.trees\n",
    "clf = cb_ensemble.clf\n",
    "\n",
    "n_classes = len(clf._classes)\n",
    "n_estimators = clf.tree_count_\n",
    "\n",
    "preds = np.array([tree.predict(X_test) for tree in trees])\n",
    "print(preds)\n",
    "preds = np.sum(preds, axis=0)\n",
    "print()\n",
    "print(preds)\n",
    "\n",
    "if n_classes > 2:\n",
    "    results_proba = softmax(preds, axis=1)\n",
    "else:\n",
    "    results_proba = np.array([[1 - v, v] for v in expit(preds)])\n",
    "\n",
    "results_proba"
   ]
  },
  {
   "cell_type": "code",
   "execution_count": 9,
   "metadata": {},
   "outputs": [
    {
     "name": "stdout",
     "output_type": "stream",
     "text": [
      "[[ 2  6 10]\n",
      " [ 4  8 12]]\n",
      "[[ 1  5  9]\n",
      " [ 3  7 11]]\n"
     ]
    }
   ],
   "source": [
    "n_classes = 3\n",
    "l = 12 // 3\n",
    "a = np.array([1, 2, 3, 4, 5, 6, 7, 8, 9, 10, 11, 12])\n",
    "a = a.reshape((n_classes, l))\n",
    "a = np.rollaxis(a, axis=1)\n",
    "print(a[1::2])\n",
    "print(a[::2])"
   ]
  },
  {
   "cell_type": "code",
   "execution_count": null,
   "metadata": {},
   "outputs": [],
   "source": []
  }
 ],
 "metadata": {
  "kernelspec": {
   "display_name": "Python 3",
   "language": "python",
   "name": "python3"
  },
  "language_info": {
   "codemirror_mode": {
    "name": "ipython",
    "version": 3
   },
   "file_extension": ".py",
   "mimetype": "text/x-python",
   "name": "python",
   "nbconvert_exporter": "python",
   "pygments_lexer": "ipython3",
   "version": "3.6.6"
  }
 },
 "nbformat": 4,
 "nbformat_minor": 2
}
