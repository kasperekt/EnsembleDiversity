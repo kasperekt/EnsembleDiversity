{
 "cells": [
  {
   "cell_type": "code",
   "execution_count": 1,
   "metadata": {},
   "outputs": [],
   "source": [
    "from utils import prepare_jupyter\n",
    "prepare_jupyter()"
   ]
  },
  {
   "cell_type": "code",
   "execution_count": 3,
   "metadata": {},
   "outputs": [],
   "source": [
    "import catboost as cb\n",
    "import numpy as np\n",
    "\n",
    "from structure.Dataset import Dataset\n",
    "from structure.CatboostTree import CatboostTree\n",
    "from structure.CatboostEnsemble import CatboostEnsemble\n",
    "\n",
    "iris_train, iris_val = Dataset.create_iris().split(0.5)\n",
    "cancer_train, cancer_val = Dataset.create_cancer().split(0.5)\n",
    "\n",
    "train_set, val_set = cancer_train, cancer_val\n",
    "# train_set, val_set = iris_train, iris_val\n",
    "\n",
    "n_classes = train_set.num_classes()"
   ]
  },
  {
   "cell_type": "code",
   "execution_count": 2,
   "metadata": {},
   "outputs": [
    {
     "data": {
      "text/plain": [
       "0.9438596491228071"
      ]
     },
     "execution_count": 2,
     "metadata": {},
     "output_type": "execute_result"
    }
   ],
   "source": [
    "# https://github.com/catboost/tutorials/blob/master/apply_model/model_export_as_json_tutorial.ipynb\n",
    "from sklearn.metrics import accuracy_score\n",
    "\n",
    "params = {\n",
    "    'loss_function': 'MultiClass' if train_set.name == 'iris' else 'Logloss',\n",
    "    'depth': 2,\n",
    "    'num_trees': 3,\n",
    "    'verbose': False\n",
    "}\n",
    "\n",
    "clf = cb.CatBoostClassifier(**params)\n",
    "clf.fit(train_set.X, train_set.y)\n",
    "\n",
    "y_pred = clf.predict(val_set.X)\n",
    "y_true = val_set.y\n",
    "\n",
    "accuracy_score(y_true, y_pred)"
   ]
  },
  {
   "cell_type": "code",
   "execution_count": 3,
   "metadata": {},
   "outputs": [],
   "source": [
    "# Unfortunately there is no way to store it without file\n",
    "MODEL_FILE = '/tmp/catboost.model.json'\n",
    "clf.save_model(MODEL_FILE, format='json')"
   ]
  },
  {
   "cell_type": "code",
   "execution_count": 4,
   "metadata": {},
   "outputs": [],
   "source": [
    "import json\n",
    "\n",
    "model = json.load(open(MODEL_FILE, 'r'))\n",
    "trees = model['oblivious_trees']\n",
    "tree = trees[0]"
   ]
  },
  {
   "cell_type": "code",
   "execution_count": 5,
   "metadata": {},
   "outputs": [
    {
     "name": "stdout",
     "output_type": "stream",
     "text": [
      "[0.1830589  1.64173357 1.35752655]\n",
      "[[0.45436265 0.54563735]\n",
      " [0.16222931 0.83777069]\n",
      " [0.2046426  0.7953574 ]]\n",
      "\n",
      "[[0.32493223 0.67506777]\n",
      " [0.0793565  0.9206435 ]]\n"
     ]
    }
   ],
   "source": [
    "cb_ensemble = CatboostEnsemble(params)\n",
    "cb_ensemble.fit(train_set)\n",
    "print(cb_ensemble.predict_proba(val_set.X[0:2]))\n",
    "print()\n",
    "print(cb_ensemble.clf.predict_proba(val_set.X[0:2]))"
   ]
  },
  {
   "cell_type": "code",
   "execution_count": 6,
   "metadata": {},
   "outputs": [],
   "source": [
    "def traverse(x, splits, leaf_values, it=0):\n",
    "    split = splits[it]\n",
    "    feature_idx = split['float_feature_index']\n",
    "    border = float(split['border'])\n",
    "    \n",
    "    n = len(leaf_values)\n",
    "    \n",
    "    if x[feature_idx] > border:\n",
    "        next_leaf_values = leaf_values[1::2]\n",
    "    else:\n",
    "        next_leaf_values = leaf_values[0::2]\n",
    "    \n",
    "    if len(next_leaf_values) == 1:\n",
    "        return next_leaf_values[0]\n",
    "        \n",
    "    return traverse(x, splits, next_leaf_values, it=it+1)\n",
    "\n",
    "\n",
    "# def traverse_multi(x, splits, leaf_values, it=0):\n",
    "#     split = splits[it]\n",
    "#     feature_idx = split['float_feature_index']\n",
    "#     border = float(split['border'])\n",
    "    \n",
    "#     n = len(leaf_values)\n",
    "    \n",
    "#     if x[feature_idx] > border:\n",
    "#         next_leaf_values = leaf_values[1::2]\n",
    "#     else:\n",
    "#         next_leaf_values = leaf_values[0::2]\n",
    "    \n",
    "#     if n_classes > 2 and n_classes == len(next_leaf_values):\n",
    "#         return next_leaf_values\n",
    "    \n",
    "#     if len(next_leaf_values) == 1:\n",
    "#         return next_leaf_values[0]\n",
    "        \n",
    "#     return traverse(x, splits, next_leaf_values, it=it+1)\n",
    "\n",
    "\n",
    "def evaluate(X, oblivious_trees):\n",
    "    results = []\n",
    "    \n",
    "    for x in X:\n",
    "        result = []\n",
    "\n",
    "        for tree in oblivious_trees:\n",
    "            if n_classes > 2:\n",
    "                leaf_values = np.array(tree['leaf_values'])\n",
    "                leaf_values = leaf_values.reshape((n_classes, len(leaf_values)//n_classes))\n",
    "                result.append([traverse(x, tree['splits'], lv) for lv in leaf_values])\n",
    "            else:\n",
    "                result.append(traverse(x, tree['splits'], tree['leaf_values']))\n",
    "\n",
    "        results.append(result)\n",
    "        \n",
    "    return np.array(results)\n",
    "\n",
    "\n",
    "def sigmoid(x):\n",
    "    return 1/(1+np.exp(-x))\n",
    "\n",
    "\n",
    "def softmax(x):\n",
    "    \"\"\"Compute softmax values for each sets of scores in x.\"\"\"\n",
    "    e_x = np.exp(x - np.max(x))\n",
    "    return e_x / e_x.sum()"
   ]
  },
  {
   "cell_type": "code",
   "execution_count": 7,
   "metadata": {},
   "outputs": [
    {
     "name": "stdout",
     "output_type": "stream",
     "text": [
      "3\n",
      "[[-0.7684336   0.82086679  0.67876327]\n",
      " [ 0.9514925   0.82086679  0.67876327]]\n"
     ]
    },
    {
     "data": {
      "text/plain": [
       "array([0.67876327, 0.67876327])"
      ]
     },
     "execution_count": 7,
     "metadata": {},
     "output_type": "execute_result"
    }
   ],
   "source": [
    "X_test = val_set.X[0:2]\n",
    "print(len(trees))\n",
    "my_preds = evaluate(X_test, trees)\n",
    "print(my_preds)\n",
    "\n",
    "cb_tree = CatboostTree.parse(trees[2], train_set)\n",
    "cb_tree.predict(X_test)"
   ]
  },
  {
   "cell_type": "code",
   "execution_count": null,
   "metadata": {},
   "outputs": [],
   "source": [
    "X_test = val_set.X[0:2]\n",
    "\n",
    "my_preds = evaluate(X_test, trees)\n",
    "print(my_preds)\n",
    "my_preds = np.sum(my_preds, axis=1)\n",
    "\n",
    "print()\n",
    "print(my_preds)\n",
    "print()\n",
    "\n",
    "my_results_proba = np.array([softmax(el) for el in my_preds])\n",
    "my_results_cls = np.argmax(my_results_proba, axis=1)\n",
    "\n",
    "clf_results_proba = clf.predict_proba(X_test)\n",
    "clf_results_cls = clf.predict(X_test).reshape((len(X_test),))\n",
    "\n",
    "# print(clf_results_proba[6], my_results_proba[6])\n",
    "print(my_results_proba)\n",
    "print()\n",
    "print(clf_results_proba)\n",
    "# print(clf_results_cls - my_results_cls)"
   ]
  },
  {
   "cell_type": "code",
   "execution_count": null,
   "metadata": {},
   "outputs": [],
   "source": [
    "X_test = val_set.X\n",
    "\n",
    "my_preds = evaluate(X_test, trees)\n",
    "clf_preds_raw = clf.predict(X_test, prediction_type=\"RawFormulaVal\")\n",
    "clf_preds_cls = clf.predict(X_test)\n",
    "\n",
    "# every value should be equal\n",
    "assert(np.sum(my_preds - clf_preds_raw) == 0)"
   ]
  },
  {
   "cell_type": "markdown",
   "metadata": {},
   "source": [
    "## Jak to działa\n",
    "Wartości są przepuszczane przez sigmoid lub multiclass, ale najpierw należy je sumować, chyba."
   ]
  },
  {
   "cell_type": "code",
   "execution_count": null,
   "metadata": {},
   "outputs": [],
   "source": [
    "# Sigmoid (dla 2 klas)\n",
    "X_test = val_set.X\n",
    "\n",
    "y_clf = clf.predict(X_test)\n",
    "y_clf_proba = clf.predict_proba(X_test)\n",
    "\n",
    "results = evaluate(X_test, trees)\n",
    "results = np.sum(results, axis=1)\n",
    "\n",
    "if n_classes == 2:\n",
    "    results_proba = np.array([[1 - r, r] for r in sigmoid(results)])\n",
    "else:\n",
    "    results_proba\n",
    "results_cls = np.argmax(results_proba, axis=1)\n",
    "results_cls = np.array(results_cls, dtype=np.float32)\n",
    "\n",
    "assert(np.sum(results_cls - y_clf) == 0)"
   ]
  },
  {
   "cell_type": "code",
   "execution_count": null,
   "metadata": {},
   "outputs": [],
   "source": [
    "# Softmax (dla >2 klas)"
   ]
  },
  {
   "cell_type": "markdown",
   "metadata": {},
   "source": [
    "# Tree parser"
   ]
  },
  {
   "cell_type": "code",
   "execution_count": null,
   "metadata": {},
   "outputs": [],
   "source": [
    "from structure.CatboostTree import CatboostTree\n",
    "\n",
    "cb_tree = CatboostTree.parse(tree, train_set)"
   ]
  },
  {
   "cell_type": "code",
   "execution_count": null,
   "metadata": {},
   "outputs": [],
   "source": [
    "from IPython.display import Image\n",
    "Image('test.png')"
   ]
  },
  {
   "cell_type": "code",
   "execution_count": null,
   "metadata": {},
   "outputs": [],
   "source": []
  }
 ],
 "metadata": {
  "kernelspec": {
   "display_name": "Python 3",
   "language": "python",
   "name": "python3"
  },
  "language_info": {
   "codemirror_mode": {
    "name": "ipython",
    "version": 3
   },
   "file_extension": ".py",
   "mimetype": "text/x-python",
   "name": "python",
   "nbconvert_exporter": "python",
   "pygments_lexer": "ipython3",
   "version": "3.6.6"
  }
 },
 "nbformat": 4,
 "nbformat_minor": 2
}
