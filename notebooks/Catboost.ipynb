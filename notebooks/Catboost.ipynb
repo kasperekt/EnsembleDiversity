{
 "cells": [
  {
   "cell_type": "code",
   "execution_count": 1,
   "metadata": {},
   "outputs": [],
   "source": [
    "from utils import prepare_jupyter\n",
    "prepare_jupyter()"
   ]
  },
  {
   "cell_type": "code",
   "execution_count": 2,
   "metadata": {},
   "outputs": [
    {
     "name": "stderr",
     "output_type": "stream",
     "text": [
      "/Users/tomek/.virtualenvs/masters/lib/python3.6/site-packages/lightgbm/__init__.py:47: UserWarning: Starting from version 2.2.1, the library file in distribution wheels for macOS is built by the Apple Clang (Xcode_8.3.3) compiler.\n",
      "This means that in case of installing LightGBM from PyPI via the ``pip install lightgbm`` command, you don't need to install the gcc compiler anymore.\n",
      "Instead of that, you need to install the OpenMP library, which is required for running LightGBM on the system with the Apple Clang compiler.\n",
      "You can install the OpenMP library by the following command: ``brew install libomp``.\n",
      "  \"You can install the OpenMP library by the following command: ``brew install libomp``.\", UserWarning)\n"
     ]
    }
   ],
   "source": [
    "import catboost as cb\n",
    "import numpy as np\n",
    "\n",
    "from data import Dataset\n",
    "from structure import CatboostEnsemble\n",
    "\n",
    "iris_train, iris_val = Dataset.create_iris().split(0.5)\n",
    "cancer_train, cancer_val = Dataset.create_cancer().split(0.5)\n",
    "aids_train, aids_val = Dataset.from_openml('aids').split(0.5)\n",
    "\n",
    "train_set, val_set = cancer_train, cancer_val\n",
    "# train_set, val_set = iris_train, iris_val\n",
    "\n",
    "n_classes = train_set.num_classes()"
   ]
  },
  {
   "cell_type": "markdown",
   "metadata": {},
   "source": [
    "## Categorical features"
   ]
  },
  {
   "cell_type": "code",
   "execution_count": 3,
   "metadata": {},
   "outputs": [],
   "source": [
    "import json\n",
    "from sklearn.datasets import fetch_openml\n",
    "\n",
    "aids = fetch_openml('aids')\n",
    "feature_names = np.array(aids.feature_names)\n",
    "categories = np.array(list(aids.categories.keys()))\n",
    "feature_names, categories\n",
    "\n",
    "cat_features = np.array([np.argwhere(feature_names == cat)[0, 0] for cat in categories])"
   ]
  },
  {
   "cell_type": "code",
   "execution_count": 8,
   "metadata": {},
   "outputs": [
    {
     "name": "stdout",
     "output_type": "stream",
     "text": [
      "Learning rate set to 0.35706\n",
      "0:\tlearn: 0.6655432\ttotal: 1.61ms\tremaining: 14.5ms\n",
      "1:\tlearn: 0.6394976\ttotal: 2.75ms\tremaining: 11ms\n",
      "2:\tlearn: 0.6273726\ttotal: 3.73ms\tremaining: 8.71ms\n",
      "3:\tlearn: 0.6262767\ttotal: 4.48ms\tremaining: 6.72ms\n",
      "4:\tlearn: 0.5909399\ttotal: 5.89ms\tremaining: 5.89ms\n",
      "5:\tlearn: 0.5872647\ttotal: 6.96ms\tremaining: 4.64ms\n",
      "6:\tlearn: 0.5863374\ttotal: 8.44ms\tremaining: 3.62ms\n",
      "7:\tlearn: 0.5717829\ttotal: 14.8ms\tremaining: 3.7ms\n",
      "8:\tlearn: 0.5424408\ttotal: 17.5ms\tremaining: 1.94ms\n",
      "9:\tlearn: 0.5348615\ttotal: 22.7ms\tremaining: 0us\n"
     ]
    }
   ],
   "source": [
    "clf = cb.CatBoostClassifier(n_estimators=10, max_depth=3, cat_features=cat_features)\n",
    "clf = clf.fit(aids_train.X, aids_train.y)\n",
    "\n",
    "MODEL_FILE = '/tmp/catboost.model.json'\n",
    "clf.save_model(MODEL_FILE, format='json')    \n",
    "model = json.load(open(MODEL_FILE, 'r'))"
   ]
  },
  {
   "cell_type": "code",
   "execution_count": 9,
   "metadata": {},
   "outputs": [
    {
     "data": {
      "text/plain": [
       "{'categorical_features': [{'flat_feature_index': 0, 'feature_index': 0},\n",
       "  {'flat_feature_index': 1, 'feature_index': 1}],\n",
       " 'ctrs': [{'borders': [3.9999990463256836,\n",
       "    7.999999046325684,\n",
       "    9.999999046325684],\n",
       "   'prior_numerator': 0,\n",
       "   'shift': 0,\n",
       "   'target_border_idx': 0,\n",
       "   'ctr_type': 'Borders',\n",
       "   'scale': 15,\n",
       "   'elements': [{'cat_feature_index': 0,\n",
       "     'combination_element': 'cat_feature_value'}],\n",
       "   'identifier': '{\\n  \"type\":\"Borders\",\\n  \"identifier\":\\n    [\\n      {\\n        \"cat_feature_index\":0,\\n        \"combination_element\":\"cat_feature_value\"\\n      }\\n    ]\\n}',\n",
       "   'prior_denomerator': 1},\n",
       "  {'borders': [4.999999046325684, 5.999999046325684],\n",
       "   'prior_numerator': 0.5,\n",
       "   'shift': 0,\n",
       "   'target_border_idx': 0,\n",
       "   'ctr_type': 'Borders',\n",
       "   'scale': 15,\n",
       "   'elements': [{'cat_feature_index': 0,\n",
       "     'combination_element': 'cat_feature_value'}],\n",
       "   'identifier': '{\\n  \"type\":\"Borders\",\\n  \"identifier\":\\n    [\\n      {\\n        \"cat_feature_index\":0,\\n        \"combination_element\":\"cat_feature_value\"\\n      }\\n    ]\\n}',\n",
       "   'prior_denomerator': 1},\n",
       "  {'borders': [5.999999046325684, 11.999999046325684],\n",
       "   'prior_numerator': 1,\n",
       "   'shift': 0,\n",
       "   'target_border_idx': 0,\n",
       "   'ctr_type': 'Borders',\n",
       "   'scale': 15,\n",
       "   'elements': [{'cat_feature_index': 0,\n",
       "     'combination_element': 'cat_feature_value'}],\n",
       "   'identifier': '{\\n  \"type\":\"Borders\",\\n  \"identifier\":\\n    [\\n      {\\n        \"cat_feature_index\":0,\\n        \"combination_element\":\"cat_feature_value\"\\n      }\\n    ]\\n}',\n",
       "   'prior_denomerator': 1},\n",
       "  {'borders': [2.9999990463256836],\n",
       "   'prior_numerator': 0.5,\n",
       "   'shift': 0,\n",
       "   'target_border_idx': 0,\n",
       "   'ctr_type': 'Borders',\n",
       "   'scale': 15,\n",
       "   'elements': [{'cat_feature_index': 1,\n",
       "     'combination_element': 'cat_feature_value'}],\n",
       "   'identifier': '{\\n  \"type\":\"Borders\",\\n  \"identifier\":\\n    [\\n      {\\n        \"cat_feature_index\":1,\\n        \"combination_element\":\"cat_feature_value\"\\n      }\\n    ]\\n}',\n",
       "   'prior_denomerator': 1},\n",
       "  {'borders': [5.999999046325684, 6.999999046325684, 12.999999046325684],\n",
       "   'prior_numerator': 1,\n",
       "   'shift': 0,\n",
       "   'target_border_idx': 0,\n",
       "   'ctr_type': 'Borders',\n",
       "   'scale': 15,\n",
       "   'elements': [{'cat_feature_index': 1,\n",
       "     'combination_element': 'cat_feature_value'}],\n",
       "   'identifier': '{\\n  \"type\":\"Borders\",\\n  \"identifier\":\\n    [\\n      {\\n        \"cat_feature_index\":1,\\n        \"combination_element\":\"cat_feature_value\"\\n      }\\n    ]\\n}',\n",
       "   'prior_denomerator': 1}],\n",
       " 'float_features': [{'nan_value_treatment': 'AsIs',\n",
       "   'has_nans': False,\n",
       "   'flat_feature_index': 2,\n",
       "   'feature_index': 0,\n",
       "   'borders': [46.5, 403.5, 1821, 9034, 18390]},\n",
       "  {'nan_value_treatment': 'AsIs',\n",
       "   'has_nans': False,\n",
       "   'flat_feature_index': 3,\n",
       "   'feature_index': 1,\n",
       "   'borders': [173898, 186828, 768393, 968048.5, 2416499.5, 14563624]}]}"
      ]
     },
     "execution_count": 9,
     "metadata": {},
     "output_type": "execute_result"
    }
   ],
   "source": [
    "tree = model['oblivious_trees'][0]\n",
    "model['features_info']"
   ]
  },
  {
   "cell_type": "markdown",
   "metadata": {},
   "source": [
    "## Rest"
   ]
  },
  {
   "cell_type": "code",
   "execution_count": 10,
   "metadata": {},
   "outputs": [
    {
     "data": {
      "text/plain": [
       "0.9578947368421052"
      ]
     },
     "execution_count": 10,
     "metadata": {},
     "output_type": "execute_result"
    }
   ],
   "source": [
    "# https://github.com/catboost/tutorials/blob/master/apply_model/model_export_as_json_tutorial.ipynb\n",
    "from sklearn.metrics import accuracy_score\n",
    "\n",
    "params = {\n",
    "    'loss_function': 'MultiClass' if train_set.name == 'iris' else 'Logloss',\n",
    "    'depth': 2,\n",
    "    'num_trees': 3,\n",
    "    'verbose': False\n",
    "}\n",
    "\n",
    "clf = cb.CatBoostClassifier(**params)\n",
    "clf.fit(train_set.X, train_set.y)\n",
    "\n",
    "y_pred = clf.predict(val_set.X)\n",
    "y_true = val_set.y\n",
    "\n",
    "accuracy_score(y_true, y_pred)"
   ]
  },
  {
   "cell_type": "code",
   "execution_count": 11,
   "metadata": {},
   "outputs": [],
   "source": [
    "# Unfortunately there is no way to store it without file\n",
    "MODEL_FILE = '/tmp/catboost.model.json'\n",
    "clf.save_model(MODEL_FILE, format='json')"
   ]
  },
  {
   "cell_type": "code",
   "execution_count": 12,
   "metadata": {},
   "outputs": [],
   "source": [
    "import json\n",
    "\n",
    "model = json.load(open(MODEL_FILE, 'r'))\n",
    "trees = model['oblivious_trees']\n",
    "tree = trees[0]"
   ]
  },
  {
   "cell_type": "code",
   "execution_count": 13,
   "metadata": {},
   "outputs": [
    {
     "ename": "AttributeError",
     "evalue": "'numpy.ndarray' object has no attribute 'X'",
     "output_type": "error",
     "traceback": [
      "\u001b[0;31m---------------------------------------------------------------------------\u001b[0m",
      "\u001b[0;31mAttributeError\u001b[0m                            Traceback (most recent call last)",
      "\u001b[0;32m<ipython-input-13-754e108d0693>\u001b[0m in \u001b[0;36m<module>\u001b[0;34m\u001b[0m\n\u001b[1;32m      1\u001b[0m \u001b[0mcb_ensemble\u001b[0m \u001b[0;34m=\u001b[0m \u001b[0mCatboostEnsemble\u001b[0m\u001b[0;34m(\u001b[0m\u001b[0mparams\u001b[0m\u001b[0;34m)\u001b[0m\u001b[0;34m\u001b[0m\u001b[0m\n\u001b[1;32m      2\u001b[0m \u001b[0mcb_ensemble\u001b[0m\u001b[0;34m.\u001b[0m\u001b[0mfit\u001b[0m\u001b[0;34m(\u001b[0m\u001b[0mtrain_set\u001b[0m\u001b[0;34m)\u001b[0m\u001b[0;34m\u001b[0m\u001b[0m\n\u001b[0;32m----> 3\u001b[0;31m \u001b[0mprint\u001b[0m\u001b[0;34m(\u001b[0m\u001b[0mcb_ensemble\u001b[0m\u001b[0;34m.\u001b[0m\u001b[0mpredict_proba\u001b[0m\u001b[0;34m(\u001b[0m\u001b[0mval_set\u001b[0m\u001b[0;34m.\u001b[0m\u001b[0mX\u001b[0m\u001b[0;34m[\u001b[0m\u001b[0;36m0\u001b[0m\u001b[0;34m:\u001b[0m\u001b[0;36m2\u001b[0m\u001b[0;34m]\u001b[0m\u001b[0;34m)\u001b[0m\u001b[0;34m)\u001b[0m\u001b[0;34m\u001b[0m\u001b[0m\n\u001b[0m\u001b[1;32m      4\u001b[0m \u001b[0mprint\u001b[0m\u001b[0;34m(\u001b[0m\u001b[0;34m)\u001b[0m\u001b[0;34m\u001b[0m\u001b[0m\n\u001b[1;32m      5\u001b[0m \u001b[0mprint\u001b[0m\u001b[0;34m(\u001b[0m\u001b[0mcb_ensemble\u001b[0m\u001b[0;34m.\u001b[0m\u001b[0mclf\u001b[0m\u001b[0;34m.\u001b[0m\u001b[0mpredict_proba\u001b[0m\u001b[0;34m(\u001b[0m\u001b[0mval_set\u001b[0m\u001b[0;34m.\u001b[0m\u001b[0mX\u001b[0m\u001b[0;34m[\u001b[0m\u001b[0;36m0\u001b[0m\u001b[0;34m:\u001b[0m\u001b[0;36m2\u001b[0m\u001b[0;34m]\u001b[0m\u001b[0;34m)\u001b[0m\u001b[0;34m)\u001b[0m\u001b[0;34m\u001b[0m\u001b[0m\n",
      "\u001b[0;32m~/University/MgrThesis/EnsembleDiversity/structure/catboost/CatboostEnsemble.py\u001b[0m in \u001b[0;36mpredict_proba\u001b[0;34m(self, dataset)\u001b[0m\n\u001b[1;32m     40\u001b[0m \u001b[0;34m\u001b[0m\u001b[0m\n\u001b[1;32m     41\u001b[0m         preds = np.array([tree.predict(encoded_dataset.X)\n\u001b[0;32m---> 42\u001b[0;31m                           for tree in self.trees])\n\u001b[0m\u001b[1;32m     43\u001b[0m         \u001b[0mpreds\u001b[0m \u001b[0;34m=\u001b[0m \u001b[0mnp\u001b[0m\u001b[0;34m.\u001b[0m\u001b[0msum\u001b[0m\u001b[0;34m(\u001b[0m\u001b[0mpreds\u001b[0m\u001b[0;34m,\u001b[0m \u001b[0maxis\u001b[0m\u001b[0;34m=\u001b[0m\u001b[0;36m0\u001b[0m\u001b[0;34m)\u001b[0m\u001b[0;34m\u001b[0m\u001b[0m\n\u001b[1;32m     44\u001b[0m \u001b[0;34m\u001b[0m\u001b[0m\n",
      "\u001b[0;32m~/University/MgrThesis/EnsembleDiversity/structure/catboost/CatboostEnsemble.py\u001b[0m in \u001b[0;36m<listcomp>\u001b[0;34m(.0)\u001b[0m\n\u001b[1;32m     40\u001b[0m \u001b[0;34m\u001b[0m\u001b[0m\n\u001b[1;32m     41\u001b[0m         preds = np.array([tree.predict(encoded_dataset.X)\n\u001b[0;32m---> 42\u001b[0;31m                           for tree in self.trees])\n\u001b[0m\u001b[1;32m     43\u001b[0m         \u001b[0mpreds\u001b[0m \u001b[0;34m=\u001b[0m \u001b[0mnp\u001b[0m\u001b[0;34m.\u001b[0m\u001b[0msum\u001b[0m\u001b[0;34m(\u001b[0m\u001b[0mpreds\u001b[0m\u001b[0;34m,\u001b[0m \u001b[0maxis\u001b[0m\u001b[0;34m=\u001b[0m\u001b[0;36m0\u001b[0m\u001b[0;34m)\u001b[0m\u001b[0;34m\u001b[0m\u001b[0m\n\u001b[1;32m     44\u001b[0m \u001b[0;34m\u001b[0m\u001b[0m\n",
      "\u001b[0;31mAttributeError\u001b[0m: 'numpy.ndarray' object has no attribute 'X'"
     ]
    }
   ],
   "source": [
    "cb_ensemble = CatboostEnsemble(params)\n",
    "cb_ensemble.fit(train_set)\n",
    "print(cb_ensemble.predict_proba(val_set.X[0:2]))\n",
    "print()\n",
    "print(cb_ensemble.clf.predict_proba(val_set.X[0:2]))"
   ]
  },
  {
   "cell_type": "code",
   "execution_count": 14,
   "metadata": {},
   "outputs": [],
   "source": [
    "def traverse(x, splits, leaf_values, it=0):\n",
    "    split = splits[it]\n",
    "    feature_idx = split['float_feature_index']\n",
    "    border = float(split['border'])\n",
    "    \n",
    "    n = len(leaf_values)\n",
    "    \n",
    "    if x[feature_idx] > border:\n",
    "        next_leaf_values = leaf_values[1::2]\n",
    "    else:\n",
    "        next_leaf_values = leaf_values[0::2]\n",
    "    \n",
    "    if len(next_leaf_values) == 1:\n",
    "        return next_leaf_values[0]\n",
    "        \n",
    "    return traverse(x, splits, next_leaf_values, it=it+1)\n",
    "\n",
    "\n",
    "# def traverse_multi(x, splits, leaf_values, it=0):\n",
    "#     split = splits[it]\n",
    "#     feature_idx = split['float_feature_index']\n",
    "#     border = float(split['border'])\n",
    "    \n",
    "#     n = len(leaf_values)\n",
    "    \n",
    "#     if x[feature_idx] > border:\n",
    "#         next_leaf_values = leaf_values[1::2]\n",
    "#     else:\n",
    "#         next_leaf_values = leaf_values[0::2]\n",
    "    \n",
    "#     if n_classes > 2 and n_classes == len(next_leaf_values):\n",
    "#         return next_leaf_values\n",
    "    \n",
    "#     if len(next_leaf_values) == 1:\n",
    "#         return next_leaf_values[0]\n",
    "        \n",
    "#     return traverse(x, splits, next_leaf_values, it=it+1)\n",
    "\n",
    "\n",
    "def evaluate(X, oblivious_trees):\n",
    "    results = []\n",
    "    \n",
    "    for x in X:\n",
    "        result = []\n",
    "\n",
    "        for tree in oblivious_trees:\n",
    "            if n_classes > 2:\n",
    "                leaf_values = np.array(tree['leaf_values'])\n",
    "                leaf_values = leaf_values.reshape((n_classes, len(leaf_values)//n_classes))\n",
    "                result.append([traverse(x, tree['splits'], lv) for lv in leaf_values])\n",
    "            else:\n",
    "                result.append(traverse(x, tree['splits'], tree['leaf_values']))\n",
    "\n",
    "        results.append(result)\n",
    "        \n",
    "    return np.array(results)\n",
    "\n",
    "\n",
    "def sigmoid(x):\n",
    "    return 1/(1+np.exp(-x))\n",
    "\n",
    "\n",
    "def softmax(x):\n",
    "    \"\"\"Compute softmax values for each sets of scores in x.\"\"\"\n",
    "    e_x = np.exp(x - np.max(x))\n",
    "    return e_x / e_x.sum()"
   ]
  },
  {
   "cell_type": "code",
   "execution_count": 15,
   "metadata": {},
   "outputs": [
    {
     "name": "stdout",
     "output_type": "stream",
     "text": [
      "3\n",
      "[[-1.24077423 -0.8073566  -0.46290973]\n",
      " [ 0.75991268  0.6810476   0.48967347]]\n"
     ]
    },
    {
     "ename": "NameError",
     "evalue": "name 'CatboostTree' is not defined",
     "output_type": "error",
     "traceback": [
      "\u001b[0;31m---------------------------------------------------------------------------\u001b[0m",
      "\u001b[0;31mNameError\u001b[0m                                 Traceback (most recent call last)",
      "\u001b[0;32m<ipython-input-15-3bda46724db7>\u001b[0m in \u001b[0;36m<module>\u001b[0;34m\u001b[0m\n\u001b[1;32m      4\u001b[0m \u001b[0mprint\u001b[0m\u001b[0;34m(\u001b[0m\u001b[0mmy_preds\u001b[0m\u001b[0;34m)\u001b[0m\u001b[0;34m\u001b[0m\u001b[0m\n\u001b[1;32m      5\u001b[0m \u001b[0;34m\u001b[0m\u001b[0m\n\u001b[0;32m----> 6\u001b[0;31m \u001b[0mcb_tree\u001b[0m \u001b[0;34m=\u001b[0m \u001b[0mCatboostTree\u001b[0m\u001b[0;34m.\u001b[0m\u001b[0mparse\u001b[0m\u001b[0;34m(\u001b[0m\u001b[0mtrees\u001b[0m\u001b[0;34m[\u001b[0m\u001b[0;36m2\u001b[0m\u001b[0;34m]\u001b[0m\u001b[0;34m,\u001b[0m \u001b[0mtrain_set\u001b[0m\u001b[0;34m)\u001b[0m\u001b[0;34m\u001b[0m\u001b[0m\n\u001b[0m\u001b[1;32m      7\u001b[0m \u001b[0mcb_tree\u001b[0m\u001b[0;34m.\u001b[0m\u001b[0mpredict\u001b[0m\u001b[0;34m(\u001b[0m\u001b[0mX_test\u001b[0m\u001b[0;34m)\u001b[0m\u001b[0;34m\u001b[0m\u001b[0m\n",
      "\u001b[0;31mNameError\u001b[0m: name 'CatboostTree' is not defined"
     ]
    }
   ],
   "source": [
    "X_test = val_set.X[0:2]\n",
    "print(len(trees))\n",
    "my_preds = evaluate(X_test, trees)\n",
    "print(my_preds)\n",
    "\n",
    "cb_tree = CatboostTree.parse(trees[2], train_set)\n",
    "cb_tree.predict(X_test)"
   ]
  },
  {
   "cell_type": "code",
   "execution_count": 16,
   "metadata": {},
   "outputs": [
    {
     "name": "stdout",
     "output_type": "stream",
     "text": [
      "[[-1.24077423 -0.8073566  -0.46290973]\n",
      " [ 0.75991268  0.6810476   0.48967347]]\n",
      "\n",
      "[-2.51104057  1.93063374]\n",
      "\n"
     ]
    },
    {
     "ename": "AxisError",
     "evalue": "axis 1 is out of bounds for array of dimension 1",
     "output_type": "error",
     "traceback": [
      "\u001b[0;31m---------------------------------------------------------------------------\u001b[0m",
      "\u001b[0;31mAxisError\u001b[0m                                 Traceback (most recent call last)",
      "\u001b[0;32m<ipython-input-16-c8912c535ae9>\u001b[0m in \u001b[0;36m<module>\u001b[0;34m\u001b[0m\n\u001b[1;32m     10\u001b[0m \u001b[0;34m\u001b[0m\u001b[0m\n\u001b[1;32m     11\u001b[0m \u001b[0mmy_results_proba\u001b[0m \u001b[0;34m=\u001b[0m \u001b[0mnp\u001b[0m\u001b[0;34m.\u001b[0m\u001b[0marray\u001b[0m\u001b[0;34m(\u001b[0m\u001b[0;34m[\u001b[0m\u001b[0msoftmax\u001b[0m\u001b[0;34m(\u001b[0m\u001b[0mel\u001b[0m\u001b[0;34m)\u001b[0m \u001b[0;32mfor\u001b[0m \u001b[0mel\u001b[0m \u001b[0;32min\u001b[0m \u001b[0mmy_preds\u001b[0m\u001b[0;34m]\u001b[0m\u001b[0;34m)\u001b[0m\u001b[0;34m\u001b[0m\u001b[0m\n\u001b[0;32m---> 12\u001b[0;31m \u001b[0mmy_results_cls\u001b[0m \u001b[0;34m=\u001b[0m \u001b[0mnp\u001b[0m\u001b[0;34m.\u001b[0m\u001b[0margmax\u001b[0m\u001b[0;34m(\u001b[0m\u001b[0mmy_results_proba\u001b[0m\u001b[0;34m,\u001b[0m \u001b[0maxis\u001b[0m\u001b[0;34m=\u001b[0m\u001b[0;36m1\u001b[0m\u001b[0;34m)\u001b[0m\u001b[0;34m\u001b[0m\u001b[0m\n\u001b[0m\u001b[1;32m     13\u001b[0m \u001b[0;34m\u001b[0m\u001b[0m\n\u001b[1;32m     14\u001b[0m \u001b[0mclf_results_proba\u001b[0m \u001b[0;34m=\u001b[0m \u001b[0mclf\u001b[0m\u001b[0;34m.\u001b[0m\u001b[0mpredict_proba\u001b[0m\u001b[0;34m(\u001b[0m\u001b[0mX_test\u001b[0m\u001b[0;34m)\u001b[0m\u001b[0;34m\u001b[0m\u001b[0m\n",
      "\u001b[0;32m~/.virtualenvs/masters/lib/python3.6/site-packages/numpy/core/fromnumeric.py\u001b[0m in \u001b[0;36margmax\u001b[0;34m(a, axis, out)\u001b[0m\n\u001b[1;32m   1101\u001b[0m \u001b[0;34m\u001b[0m\u001b[0m\n\u001b[1;32m   1102\u001b[0m     \"\"\"\n\u001b[0;32m-> 1103\u001b[0;31m     \u001b[0;32mreturn\u001b[0m \u001b[0m_wrapfunc\u001b[0m\u001b[0;34m(\u001b[0m\u001b[0ma\u001b[0m\u001b[0;34m,\u001b[0m \u001b[0;34m'argmax'\u001b[0m\u001b[0;34m,\u001b[0m \u001b[0maxis\u001b[0m\u001b[0;34m=\u001b[0m\u001b[0maxis\u001b[0m\u001b[0;34m,\u001b[0m \u001b[0mout\u001b[0m\u001b[0;34m=\u001b[0m\u001b[0mout\u001b[0m\u001b[0;34m)\u001b[0m\u001b[0;34m\u001b[0m\u001b[0m\n\u001b[0m\u001b[1;32m   1104\u001b[0m \u001b[0;34m\u001b[0m\u001b[0m\n\u001b[1;32m   1105\u001b[0m \u001b[0;34m\u001b[0m\u001b[0m\n",
      "\u001b[0;32m~/.virtualenvs/masters/lib/python3.6/site-packages/numpy/core/fromnumeric.py\u001b[0m in \u001b[0;36m_wrapfunc\u001b[0;34m(obj, method, *args, **kwds)\u001b[0m\n\u001b[1;32m     54\u001b[0m \u001b[0;32mdef\u001b[0m \u001b[0m_wrapfunc\u001b[0m\u001b[0;34m(\u001b[0m\u001b[0mobj\u001b[0m\u001b[0;34m,\u001b[0m \u001b[0mmethod\u001b[0m\u001b[0;34m,\u001b[0m \u001b[0;34m*\u001b[0m\u001b[0margs\u001b[0m\u001b[0;34m,\u001b[0m \u001b[0;34m**\u001b[0m\u001b[0mkwds\u001b[0m\u001b[0;34m)\u001b[0m\u001b[0;34m:\u001b[0m\u001b[0;34m\u001b[0m\u001b[0m\n\u001b[1;32m     55\u001b[0m     \u001b[0;32mtry\u001b[0m\u001b[0;34m:\u001b[0m\u001b[0;34m\u001b[0m\u001b[0m\n\u001b[0;32m---> 56\u001b[0;31m         \u001b[0;32mreturn\u001b[0m \u001b[0mgetattr\u001b[0m\u001b[0;34m(\u001b[0m\u001b[0mobj\u001b[0m\u001b[0;34m,\u001b[0m \u001b[0mmethod\u001b[0m\u001b[0;34m)\u001b[0m\u001b[0;34m(\u001b[0m\u001b[0;34m*\u001b[0m\u001b[0margs\u001b[0m\u001b[0;34m,\u001b[0m \u001b[0;34m**\u001b[0m\u001b[0mkwds\u001b[0m\u001b[0;34m)\u001b[0m\u001b[0;34m\u001b[0m\u001b[0m\n\u001b[0m\u001b[1;32m     57\u001b[0m \u001b[0;34m\u001b[0m\u001b[0m\n\u001b[1;32m     58\u001b[0m     \u001b[0;31m# An AttributeError occurs if the object does not have\u001b[0m\u001b[0;34m\u001b[0m\u001b[0;34m\u001b[0m\u001b[0m\n",
      "\u001b[0;31mAxisError\u001b[0m: axis 1 is out of bounds for array of dimension 1"
     ]
    }
   ],
   "source": [
    "X_test = val_set.X[0:2]\n",
    "\n",
    "my_preds = evaluate(X_test, trees)\n",
    "print(my_preds)\n",
    "my_preds = np.sum(my_preds, axis=1)\n",
    "\n",
    "print()\n",
    "print(my_preds)\n",
    "print()\n",
    "\n",
    "my_results_proba = np.array([softmax(el) for el in my_preds])\n",
    "my_results_cls = np.argmax(my_results_proba, axis=1)\n",
    "\n",
    "clf_results_proba = clf.predict_proba(X_test)\n",
    "clf_results_cls = clf.predict(X_test).reshape((len(X_test),))\n",
    "\n",
    "# print(clf_results_proba[6], my_results_proba[6])\n",
    "print(my_results_proba)\n",
    "print()\n",
    "print(clf_results_proba)\n",
    "# print(clf_results_cls - my_results_cls)"
   ]
  },
  {
   "cell_type": "code",
   "execution_count": 17,
   "metadata": {},
   "outputs": [
    {
     "ename": "ValueError",
     "evalue": "operands could not be broadcast together with shapes (285,3) (285,) ",
     "output_type": "error",
     "traceback": [
      "\u001b[0;31m---------------------------------------------------------------------------\u001b[0m",
      "\u001b[0;31mValueError\u001b[0m                                Traceback (most recent call last)",
      "\u001b[0;32m<ipython-input-17-558e5cfdb5f1>\u001b[0m in \u001b[0;36m<module>\u001b[0;34m\u001b[0m\n\u001b[1;32m      6\u001b[0m \u001b[0;34m\u001b[0m\u001b[0m\n\u001b[1;32m      7\u001b[0m \u001b[0;31m# every value should be equal\u001b[0m\u001b[0;34m\u001b[0m\u001b[0;34m\u001b[0m\u001b[0m\n\u001b[0;32m----> 8\u001b[0;31m \u001b[0;32massert\u001b[0m\u001b[0;34m(\u001b[0m\u001b[0mnp\u001b[0m\u001b[0;34m.\u001b[0m\u001b[0msum\u001b[0m\u001b[0;34m(\u001b[0m\u001b[0mmy_preds\u001b[0m \u001b[0;34m-\u001b[0m \u001b[0mclf_preds_raw\u001b[0m\u001b[0;34m)\u001b[0m \u001b[0;34m==\u001b[0m \u001b[0;36m0\u001b[0m\u001b[0;34m)\u001b[0m\u001b[0;34m\u001b[0m\u001b[0m\n\u001b[0m",
      "\u001b[0;31mValueError\u001b[0m: operands could not be broadcast together with shapes (285,3) (285,) "
     ]
    }
   ],
   "source": [
    "X_test = val_set.X\n",
    "\n",
    "my_preds = evaluate(X_test, trees)\n",
    "clf_preds_raw = clf.predict(X_test, prediction_type=\"RawFormulaVal\")\n",
    "clf_preds_cls = clf.predict(X_test)\n",
    "\n",
    "# every value should be equal\n",
    "assert(np.sum(my_preds - clf_preds_raw) == 0)"
   ]
  },
  {
   "cell_type": "markdown",
   "metadata": {},
   "source": [
    "## Jak to działa\n",
    "Wartości są przepuszczane przez sigmoid lub multiclass, ale najpierw należy je sumować, chyba."
   ]
  },
  {
   "cell_type": "code",
   "execution_count": 18,
   "metadata": {},
   "outputs": [],
   "source": [
    "# Sigmoid (dla 2 klas)\n",
    "X_test = val_set.X\n",
    "\n",
    "y_clf = clf.predict(X_test)\n",
    "y_clf_proba = clf.predict_proba(X_test)\n",
    "\n",
    "results = evaluate(X_test, trees)\n",
    "results = np.sum(results, axis=1)\n",
    "\n",
    "if n_classes == 2:\n",
    "    results_proba = np.array([[1 - r, r] for r in sigmoid(results)])\n",
    "else:\n",
    "    results_proba\n",
    "results_cls = np.argmax(results_proba, axis=1)\n",
    "results_cls = np.array(results_cls, dtype=np.float32)\n",
    "\n",
    "assert(np.sum(results_cls - y_clf) == 0)"
   ]
  },
  {
   "cell_type": "code",
   "execution_count": 19,
   "metadata": {},
   "outputs": [],
   "source": [
    "# Softmax (dla >2 klas)"
   ]
  },
  {
   "cell_type": "markdown",
   "metadata": {},
   "source": [
    "# Tree parser"
   ]
  },
  {
   "cell_type": "code",
   "execution_count": null,
   "metadata": {},
   "outputs": [],
   "source": [
    "from structure.CatboostTree import CatboostTree\n",
    "\n",
    "cb_tree = CatboostTree.parse(tree, train_set)"
   ]
  },
  {
   "cell_type": "code",
   "execution_count": null,
   "metadata": {},
   "outputs": [],
   "source": [
    "from IPython.display import Image\n",
    "Image('test.png')"
   ]
  },
  {
   "cell_type": "code",
   "execution_count": 6,
   "metadata": {},
   "outputs": [
    {
     "name": "stderr",
     "output_type": "stream",
     "text": [
      "/Users/tomek/.virtualenvs/masters/lib/python3.6/site-packages/sklearn/datasets/openml.py:317: UserWarning: Multiple active versions of the dataset matching the name pyrim exist. Versions may be fundamentally different, returning version 1.\n",
      "  \" {version}.\".format(name=name, version=res[0]['version']))\n"
     ]
    }
   ],
   "source": [
    "from data import Dataset\n",
    "\n",
    "pyrim = Dataset.from_openml('pyrim')\n"
   ]
  },
  {
   "cell_type": "code",
   "execution_count": 9,
   "metadata": {},
   "outputs": [
    {
     "data": {
      "text/plain": [
       "False"
      ]
     },
     "execution_count": 9,
     "metadata": {},
     "output_type": "execute_result"
    }
   ],
   "source": [
    "ls = [(1, 'a'), (2, 'b'), (3, 'c')]\n",
    "(2, 'a') in ls"
   ]
  },
  {
   "cell_type": "code",
   "execution_count": null,
   "metadata": {},
   "outputs": [],
   "source": []
  }
 ],
 "metadata": {
  "kernelspec": {
   "display_name": "Python 3",
   "language": "python",
   "name": "python3"
  },
  "language_info": {
   "codemirror_mode": {
    "name": "ipython",
    "version": 3
   },
   "file_extension": ".py",
   "mimetype": "text/x-python",
   "name": "python",
   "nbconvert_exporter": "python",
   "pygments_lexer": "ipython3",
   "version": "3.6.6"
  }
 },
 "nbformat": 4,
 "nbformat_minor": 2
}
