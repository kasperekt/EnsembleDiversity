{
 "cells": [
  {
   "cell_type": "code",
   "execution_count": 1,
   "metadata": {},
   "outputs": [],
   "source": [
    "from utils import prepare_jupyter\n",
    "prepare_jupyter()"
   ]
  },
  {
   "cell_type": "code",
   "execution_count": 2,
   "metadata": {},
   "outputs": [
    {
     "name": "stderr",
     "output_type": "stream",
     "text": [
      "/Users/tomek/.virtualenvs/masters/lib/python3.6/site-packages/lightgbm/__init__.py:47: UserWarning: Starting from version 2.2.1, the library file in distribution wheels for macOS is built by the Apple Clang (Xcode_8.3.3) compiler.\n",
      "This means that in case of installing LightGBM from PyPI via the ``pip install lightgbm`` command, you don't need to install the gcc compiler anymore.\n",
      "Instead of that, you need to install the OpenMP library, which is required for running LightGBM on the system with the Apple Clang compiler.\n",
      "You can install the OpenMP library by the following command: ``brew install libomp``.\n",
      "  \"You can install the OpenMP library by the following command: ``brew install libomp``.\", UserWarning)\n"
     ]
    }
   ],
   "source": [
    "import numpy as np\n",
    "\n",
    "from data import Dataset\n",
    "from structure import CatboostEnsemble\n",
    "from measures import bin_q, bin_corr, bin_entropy, bin_kw"
   ]
  },
  {
   "cell_type": "code",
   "execution_count": 3,
   "metadata": {},
   "outputs": [
    {
     "name": "stdout",
     "output_type": "stream",
     "text": [
      "Downloading boston set.\n"
     ]
    }
   ],
   "source": [
    "train_set, val_set = Dataset.from_openml('boston', version=2).split(0.5)"
   ]
  },
  {
   "cell_type": "code",
   "execution_count": 4,
   "metadata": {},
   "outputs": [],
   "source": [
    "clf = CatboostEnsemble({ 'n_estimators': 5, 'max_depth': 4 })\n",
    "clf.fit(train_set)"
   ]
  },
  {
   "cell_type": "code",
   "execution_count": 5,
   "metadata": {},
   "outputs": [],
   "source": [
    "preds = [tree.predict(val_set.X, labeled_result=True) for tree in clf.trees]\n",
    "pred_a, pred_b, pred_c, pred_d, pred_e = preds\n",
    "pred_b_inv = np.abs(pred_b - 1)"
   ]
  },
  {
   "cell_type": "code",
   "execution_count": 6,
   "metadata": {},
   "outputs": [
    {
     "name": "stdout",
     "output_type": "stream",
     "text": [
      "(253, 13)\n",
      "ChiSquared = 253.0\n",
      "CrossEntropy = 0.9656361333706098\n",
      "Pearson = 0.7071067811865476\n",
      "Cond. Entropy = -0.0\n",
      "Cond. Entropy = 1.0\n",
      "\n",
      "ChiSquared = 253.0\n",
      "CrossEntropy = 1.1042078552434993\n",
      "Pearson = 0.7071067811865476\n",
      "Cond. Entropy = -0.0\n",
      "Cond. Entropy = -0.9097472924187725\n",
      "\n",
      "ChiSquared = 162.60531950751468\n",
      "CrossEntropy = 0.9706751050750786\n",
      "Pearson = 0.6254992967192065\n",
      "Cond. Entropy = 0.4462377649494061\n",
      "Cond. Entropy = 0.8015815959741193\n",
      "\n",
      "ChiSquared = 109.90810120557771\n",
      "CrossEntropy = 0.9807921631611685\n",
      "Pearson = 0.5503215516480571\n",
      "Cond. Entropy = 0.6542077301908472\n",
      "Cond. Entropy = 0.6542947027233149\n",
      "\n",
      "ChiSquared = 178.02166458915138\n",
      "CrossEntropy = 0.9788945261032005\n",
      "Pearson = 0.642668300427614\n",
      "Cond. Entropy = 0.383870192116421\n",
      "Cond. Entropy = 0.8309415470773539\n",
      "\n"
     ]
    }
   ],
   "source": [
    "from pycm import ConfusionMatrix\n",
    "\n",
    "\n",
    "\n",
    "cm_1 = ConfusionMatrix(actual_vector=pred_a, predict_vector=pred_b)\n",
    "cm_2 = ConfusionMatrix(actual_vector=pred_a, predict_vector=pred_c)\n",
    "cm_3 = ConfusionMatrix(actual_vector=pred_b, predict_vector=pred_c)\n",
    "cm_same = ConfusionMatrix(actual_vector=pred_b, predict_vector=pred_b)\n",
    "cm_diff = ConfusionMatrix(actual_vector=pred_b, predict_vector=pred_b_inv)\n",
    "\n",
    "def relevant_stats(cm):\n",
    "    print(f'ChiSquared = {cm.Chi_Squared}')\n",
    "    print(f'CrossEntropy = {cm.CrossEntropy}')\n",
    "    print(f'Pearson = {cm.overall_stat[\"Pearson C\"]}')\n",
    "    print(f'Cond. Entropy = {cm.overall_stat[\"Conditional Entropy\"]}')\n",
    "    print(f'Cond. Entropy = {cm.overall_stat[\"Kappa\"]}')\n",
    "    print()\n",
    "\n",
    "print(val_set.X.shape)\n",
    "relevant_stats(cm_same)\n",
    "relevant_stats(cm_diff)\n",
    "relevant_stats(cm_1)\n",
    "relevant_stats(cm_2)\n",
    "relevant_stats(cm_3)\n",
    "\n",
    "# list(cm_1.overall_stat.keys())"
   ]
  },
  {
   "cell_type": "code",
   "execution_count": 7,
   "metadata": {},
   "outputs": [
    {
     "name": "stdout",
     "output_type": "stream",
     "text": [
      "0.9580190226303706\n",
      "0.8013937282229965\n",
      "0.9639699749791493\n",
      "1.0\n"
     ]
    }
   ],
   "source": [
    "print(bin_q(val_set.y, pred_a, pred_b))\n",
    "print(bin_q(val_set.y, pred_a, pred_c))\n",
    "print(bin_q(val_set.y, pred_b, pred_c))\n",
    "print(bin_q(val_set.y, pred_a, pred_a))"
   ]
  },
  {
   "cell_type": "code",
   "execution_count": 8,
   "metadata": {},
   "outputs": [
    {
     "name": "stdout",
     "output_type": "stream",
     "text": [
      "0.662348314980628\n",
      "0.40450497864947405\n",
      "0.6857752503744251\n",
      "-1.0\n"
     ]
    }
   ],
   "source": [
    "print(bin_corr(val_set.y, pred_a, pred_b))\n",
    "print(bin_corr(val_set.y, pred_a, pred_c))\n",
    "print(bin_corr(val_set.y, pred_b, pred_c))\n",
    "print(bin_corr(val_set.y, pred_b, pred_b_inv))"
   ]
  },
  {
   "cell_type": "code",
   "execution_count": 9,
   "metadata": {},
   "outputs": [],
   "source": [
    "# preds\n",
    "# print(bin_entropy(val_set.y, preds))"
   ]
  },
  {
   "cell_type": "code",
   "execution_count": 10,
   "metadata": {},
   "outputs": [
    {
     "name": "stdout",
     "output_type": "stream",
     "text": [
      "0.3537549407114624\n",
      "0.5025976524062725\n",
      "0.28054244880259727\n",
      "0.08142292490118577\n",
      "0.001937227577371932\n"
     ]
    }
   ],
   "source": [
    "print(clf.entropy(val_set))\n",
    "print(clf.q(val_set))\n",
    "print(clf.corr(val_set))\n",
    "print(clf.df(val_set))\n",
    "print(clf.kw(val_set))"
   ]
  }
 ],
 "metadata": {
  "kernelspec": {
   "display_name": "Python 3",
   "language": "python",
   "name": "python3"
  },
  "language_info": {
   "codemirror_mode": {
    "name": "ipython",
    "version": 3
   },
   "file_extension": ".py",
   "mimetype": "text/x-python",
   "name": "python",
   "nbconvert_exporter": "python",
   "pygments_lexer": "ipython3",
   "version": "3.6.6"
  }
 },
 "nbformat": 4,
 "nbformat_minor": 2
}
