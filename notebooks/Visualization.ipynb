{
 "cells": [
  {
   "cell_type": "code",
   "execution_count": 1,
   "metadata": {},
   "outputs": [],
   "source": [
    "from utils import prepare_jupyter\n",
    "prepare_jupyter()"
   ]
  },
  {
   "cell_type": "code",
   "execution_count": 3,
   "metadata": {},
   "outputs": [],
   "source": [
    "import os\n",
    "import pandas as pd\n",
    "import numpy as np\n",
    "import matplotlib.pyplot as plt\n",
    "\n",
    "%matplotlib inline\n",
    "\n",
    "BASE_DIR = '/Users/tomek/University/MgrThesis/EnsembleDiversityResults/experiments-10-08'\n",
    "NAMES = ['bagging', 'adaboost', 'randomforest', 'lgb', 'catboost', 'xgboost']\n",
    "\n",
    "def data_path(name):\n",
    "    return os.path.join(BASE_DIR, name)"
   ]
  },
  {
   "cell_type": "markdown",
   "metadata": {},
   "source": [
    "## Przygotowanie ogólnego dataframe'u\n",
    "\n",
    "Do wizualizacji na pracy"
   ]
  },
  {
   "cell_type": "code",
   "execution_count": 15,
   "metadata": {},
   "outputs": [
    {
     "data": {
      "text/html": [
       "<div>\n",
       "<style scoped>\n",
       "    .dataframe tbody tr th:only-of-type {\n",
       "        vertical-align: middle;\n",
       "    }\n",
       "\n",
       "    .dataframe tbody tr th {\n",
       "        vertical-align: top;\n",
       "    }\n",
       "\n",
       "    .dataframe thead th {\n",
       "        text-align: right;\n",
       "    }\n",
       "</style>\n",
       "<table border=\"1\" class=\"dataframe\">\n",
       "  <thead>\n",
       "    <tr style=\"text-align: right;\">\n",
       "      <th></th>\n",
       "      <th>accuracy</th>\n",
       "      <th>corr</th>\n",
       "      <th>coverage_minmax</th>\n",
       "      <th>coverage_std</th>\n",
       "      <th>dataset_name</th>\n",
       "      <th>df</th>\n",
       "      <th>entropy</th>\n",
       "      <th>kw</th>\n",
       "      <th>max_depth</th>\n",
       "      <th>n_estimators</th>\n",
       "      <th>name</th>\n",
       "      <th>node_diversity</th>\n",
       "      <th>q</th>\n",
       "      <th>used_attributes_ratio</th>\n",
       "    </tr>\n",
       "  </thead>\n",
       "  <tbody>\n",
       "    <tr>\n",
       "      <th>0</th>\n",
       "      <td>0.798507</td>\n",
       "      <td>0.318450</td>\n",
       "      <td>0.127687</td>\n",
       "      <td>0.049005</td>\n",
       "      <td>SPECT</td>\n",
       "      <td>0.100000</td>\n",
       "      <td>0.365672</td>\n",
       "      <td>0.003564</td>\n",
       "      <td>2</td>\n",
       "      <td>5</td>\n",
       "      <td>Bagging</td>\n",
       "      <td>0.8</td>\n",
       "      <td>0.293429</td>\n",
       "      <td>0.318182</td>\n",
       "    </tr>\n",
       "    <tr>\n",
       "      <th>1</th>\n",
       "      <td>0.798507</td>\n",
       "      <td>0.475867</td>\n",
       "      <td>0.098783</td>\n",
       "      <td>0.037969</td>\n",
       "      <td>SPECT</td>\n",
       "      <td>0.127032</td>\n",
       "      <td>0.231343</td>\n",
       "      <td>0.006455</td>\n",
       "      <td>2</td>\n",
       "      <td>10</td>\n",
       "      <td>Bagging</td>\n",
       "      <td>0.8</td>\n",
       "      <td>0.444219</td>\n",
       "      <td>0.363636</td>\n",
       "    </tr>\n",
       "  </tbody>\n",
       "</table>\n",
       "</div>"
      ],
      "text/plain": [
       "   accuracy      corr  coverage_minmax  coverage_std dataset_name        df  \\\n",
       "0  0.798507  0.318450         0.127687      0.049005        SPECT  0.100000   \n",
       "1  0.798507  0.475867         0.098783      0.037969        SPECT  0.127032   \n",
       "\n",
       "    entropy        kw  max_depth  n_estimators     name  node_diversity  \\\n",
       "0  0.365672  0.003564          2             5  Bagging             0.8   \n",
       "1  0.231343  0.006455          2            10  Bagging             0.8   \n",
       "\n",
       "          q  used_attributes_ratio  \n",
       "0  0.293429               0.318182  \n",
       "1  0.444219               0.363636  "
      ]
     },
     "execution_count": 15,
     "metadata": {},
     "output_type": "execute_result"
    }
   ],
   "source": [
    "all_df = [pd.read_csv(data_path(f'{name}experiment-ensemble.csv'), index_col=0) for name in NAMES]\n",
    "big_df = pd.concat(all_df, sort=True).drop(columns='n_jobs')\n",
    "big_df.head(n=2)"
   ]
  },
  {
   "cell_type": "markdown",
   "metadata": {},
   "source": [
    "## Pojedynczy wykres\n",
    "\n",
    "Generowanie jednego wykresu do opisu poszczególnych rzeczy znajdujących się na nim"
   ]
  },
  {
   "cell_type": "code",
   "execution_count": 23,
   "metadata": {},
   "outputs": [
    {
     "data": {
      "image/png": "[encoded data removed]",
      "text/plain": [
       "<Figure size 432x288 with 1 Axes>"
      ]
     },
     "metadata": {
      "needs_background": "light"
     },
     "output_type": "display_data"
    }
   ],
   "source": [
    "LABELS_DICT = {\n",
    "    'corr': 'Correlation',\n",
    "    'coverage_minmax': 'Coverage (minmax)',\n",
    "    'coverage_std': 'Coverage (std)',\n",
    "    'entropy': 'Entropy',\n",
    "    'kw': 'Kohavi-Wolpert',\n",
    "    'node_diversity': 'Node diversity',\n",
    "    'q': 'Q',\n",
    "    'used_attributes_ratio': 'Used attributes ratio',\n",
    "    'accuracy': 'Accuracy'\n",
    "}\n",
    "\n",
    "dataset_name = 'SPECT'\n",
    "rf_df = pd.read_csv(data_path('randomforestexperiment-ensemble.csv'), index_col=0)\n",
    "\n",
    "data_df = rf_df[rf_df['dataset_name'] == dataset_name]\n",
    "values = data_df[['corr', 'accuracy']].values\n",
    "xs, ys = values[:, 0], values[:, 1]\n",
    "\n",
    "fig, ax = plt.subplots()\n",
    "\n",
    "ax.set_title(dataset_name)\n",
    "ax.set_xlabel(LABELS_DICT['corr'])\n",
    "ax.set_ylabel(LABELS_DICT['accuracy'])\n",
    "ax.scatter(xs, ys)\n",
    "\n",
    "fig.savefig('./example.pdf')"
   ]
  },
  {
   "cell_type": "code",
   "execution_count": null,
   "metadata": {},
   "outputs": [],
   "source": []
  }
 ],
 "metadata": {
  "kernelspec": {
   "display_name": "Python 3",
   "language": "python",
   "name": "python3"
  },
  "language_info": {
   "codemirror_mode": {
    "name": "ipython",
    "version": 3
   },
   "file_extension": ".py",
   "mimetype": "text/x-python",
   "name": "python",
   "nbconvert_exporter": "python",
   "pygments_lexer": "ipython3",
   "version": "3.6.6"
  }
 },
 "nbformat": 4,
 "nbformat_minor": 2
}
