{
 "cells": [
  {
   "cell_type": "code",
   "execution_count": 1,
   "metadata": {},
   "outputs": [
    {
     "name": "stderr",
     "output_type": "stream",
     "text": [
      "/Users/tomek/.virtualenvs/masters/lib/python3.6/site-packages/lightgbm/__init__.py:47: UserWarning: Starting from version 2.2.1, the library file in distribution wheels for macOS is built by the Apple Clang (Xcode_8.3.3) compiler.\n",
      "This means that in case of installing LightGBM from PyPI via the ``pip install lightgbm`` command, you don't need to install the gcc compiler anymore.\n",
      "Instead of that, you need to install the OpenMP library, which is required for running LightGBM on the system with the Apple Clang compiler.\n",
      "You can install the OpenMP library by the following command: ``brew install libomp``.\n",
      "  \"You can install the OpenMP library by the following command: ``brew install libomp``.\", UserWarning)\n"
     ]
    }
   ],
   "source": [
    "import numpy as np\n",
    "import lightgbm as lgb\n",
    "\n",
    "from scipy.special import softmax\n",
    "from sklearn.datasets import load_iris\n",
    "from sklearn.model_selection import train_test_split\n",
    "\n",
    "from structure.Dataset import Dataset\n",
    "from parser.lightgbm import parse_lightgbm\n",
    "from extract import get_lgb_trees"
   ]
  },
  {
   "cell_type": "code",
   "execution_count": 29,
   "metadata": {},
   "outputs": [],
   "source": [
    "iris = load_iris()\n",
    "X_train, X_val, y_train, y_val = train_test_split(iris.data, iris.target, test_size=0.2)\n",
    "iris_data = Dataset(X_train, y_train, iris.feature_names, iris.target_names)\n",
    "\n",
    "n = 5\n",
    "clf = lgb.LGBMClassifier(n_estimators=n, objective='softmax')\n",
    "clf.fit(X_train, y_train)\n",
    "\n",
    "trees = parse_lightgbm(clf, iris_data)"
   ]
  },
  {
   "cell_type": "code",
   "execution_count": 30,
   "metadata": {},
   "outputs": [
    {
     "name": "stdout",
     "output_type": "stream",
     "text": [
      "Shape = (15, 30)\n"
     ]
    }
   ],
   "source": [
    "trees_preds = np.array([tree.predict(X_val) for tree in trees])\n",
    "print(f'Shape = {trees_preds.shape}')"
   ]
  },
  {
   "cell_type": "markdown",
   "metadata": {},
   "source": [
    "## Jak LightGBM działa\n",
    "\n",
    "* Softmax na wartościach `leaf_value` jeśli `objective='multiclass'`\n",
    "* Suma leaf_value: Podzielone w taki sposób dla klas A, B oraz C: [A, B, C, A, B, C, ...]"
   ]
  },
  {
   "cell_type": "code",
   "execution_count": 36,
   "metadata": {},
   "outputs": [],
   "source": [
    "clf_preds = clf.predict(X_val)\n",
    "\n",
    "which = 0\n",
    "preds = trees_preds[:, which]\n",
    "y_true = y_val[which]\n",
    "y_clf = clf_preds[which]\n",
    "\n",
    "preds = preds.reshape((n, len(iris.target_names)))\n",
    "probs = softmax(np.sum(preds, axis=0))"
   ]
  },
  {
   "cell_type": "code",
   "execution_count": 37,
   "metadata": {},
   "outputs": [
    {
     "name": "stdout",
     "output_type": "stream",
     "text": [
      "Is 1, clf says 1, should be 1\n"
     ]
    }
   ],
   "source": [
    "print(f'Is {np.argmax(probs)}, clf says {y_clf}, should be {y_true}')"
   ]
  },
  {
   "cell_type": "code",
   "execution_count": 39,
   "metadata": {},
   "outputs": [
    {
     "data": {
      "text/plain": [
       "(array([[0.23560392, 0.52519782, 0.23919826]]),\n",
       " array([0.23560392, 0.52519782, 0.23919826]))"
      ]
     },
     "execution_count": 39,
     "metadata": {},
     "output_type": "execute_result"
    }
   ],
   "source": [
    "clf.predict_proba([X_val[which]]), probs"
   ]
  },
  {
   "cell_type": "code",
   "execution_count": null,
   "metadata": {},
   "outputs": [],
   "source": []
  }
 ],
 "metadata": {
  "kernelspec": {
   "display_name": "Python 3",
   "language": "python",
   "name": "python3"
  },
  "language_info": {
   "codemirror_mode": {
    "name": "ipython",
    "version": 3
   },
   "file_extension": ".py",
   "mimetype": "text/x-python",
   "name": "python",
   "nbconvert_exporter": "python",
   "pygments_lexer": "ipython3",
   "version": "3.6.6"
  }
 },
 "nbformat": 4,
 "nbformat_minor": 2
}
