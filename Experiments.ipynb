{
 "cells": [
  {
   "cell_type": "code",
   "execution_count": 1,
   "metadata": {},
   "outputs": [
    {
     "name": "stderr",
     "output_type": "stream",
     "text": [
      "/Users/tomek/.virtualenvs/masters/lib/python3.6/importlib/_bootstrap.py:219: RuntimeWarning: numpy.ufunc size changed, may indicate binary incompatibility. Expected 216, got 192\n",
      "  return f(*args, **kwds)\n",
      "/Users/tomek/.virtualenvs/masters/lib/python3.6/importlib/_bootstrap.py:219: RuntimeWarning: numpy.ufunc size changed, may indicate binary incompatibility. Expected 216, got 192\n",
      "  return f(*args, **kwds)\n"
     ]
    }
   ],
   "source": [
    "import numpy as np\n",
    "\n",
    "from sklearn.ensemble import AdaBoostClassifier\n",
    "from sklearn.tree import DecisionTreeClassifier\n",
    "from sklearn.datasets import load_iris\n",
    "from structure.Dataset import Dataset\n",
    "from structure.SklearnEnsemble import SklearnEnsemble\n",
    "from predict import majority_voting"
   ]
  },
  {
   "cell_type": "code",
   "execution_count": 2,
   "metadata": {},
   "outputs": [],
   "source": [
    "iris = load_iris()\n",
    "train_data, val_data = Dataset(iris.data, iris.target, iris.feature_names, iris.target_names).split()\n",
    "\n",
    "tree = DecisionTreeClassifier(max_depth=2)\n",
    "clf = AdaBoostClassifier(n_estimators=10, base_estimator=tree)\n",
    "\n",
    "ensemble = SklearnEnsemble(clf)\n",
    "ensemble.fit(train_data)"
   ]
  },
  {
   "cell_type": "code",
   "execution_count": 16,
   "metadata": {},
   "outputs": [
    {
     "name": "stdout",
     "output_type": "stream",
     "text": [
      "[[2 2 2 2 2 2 2 1 1 2]\n",
      " [2 2 2 2 2 2 2 2 2 2]\n",
      " [0 2 0 2 0 2 0 1 1 0]\n",
      " [0 2 0 2 0 2 0 1 1 0]\n",
      " [2 2 2 2 2 2 2 2 2 2]\n",
      " [2 2 2 2 2 2 2 2 2 2]\n",
      " [2 2 2 2 2 2 2 1 1 2]\n",
      " [2 2 2 2 2 2 2 1 1 2]\n",
      " [2 2 2 2 2 2 2 1 1 2]\n",
      " [0 2 0 0 0 2 0 1 1 0]\n",
      " [0 2 0 0 0 2 0 1 1 0]\n",
      " [2 2 2 2 2 2 2 1 1 2]\n",
      " [2 2 2 2 2 2 2 2 2 2]\n",
      " [2 2 2 2 2 2 2 2 2 2]\n",
      " [2 2 2 2 2 2 2 2 2 2]]\n",
      "(15, 10)\n"
     ]
    },
    {
     "data": {
      "text/plain": [
       "(array([2, 2, 0, 0, 2, 2, 2, 2, 2, 0, 0, 2, 2, 2, 2]),\n",
       " array([1, 2, 0, 0, 2, 2, 1, 1, 1, 0, 0, 1, 2, 1, 2]))"
      ]
     },
     "execution_count": 16,
     "metadata": {},
     "output_type": "execute_result"
    }
   ],
   "source": [
    "preds = ensemble.predict(val_data.X)\n",
    "preds = np.rollaxis(preds, axis=1)\n",
    "print(preds)\n",
    "print(preds.shape)\n",
    "majority_voting(preds), val_data.y"
   ]
  },
  {
   "cell_type": "code",
   "execution_count": null,
   "metadata": {},
   "outputs": [],
   "source": []
  },
  {
   "cell_type": "code",
   "execution_count": null,
   "metadata": {},
   "outputs": [],
   "source": []
  }
 ],
 "metadata": {
  "kernelspec": {
   "display_name": "Python 3",
   "language": "python",
   "name": "python3"
  },
  "language_info": {
   "codemirror_mode": {
    "name": "ipython",
    "version": 3
   },
   "file_extension": ".py",
   "mimetype": "text/x-python",
   "name": "python",
   "nbconvert_exporter": "python",
   "pygments_lexer": "ipython3",
   "version": "3.6.6"
  }
 },
 "nbformat": 4,
 "nbformat_minor": 2
}
