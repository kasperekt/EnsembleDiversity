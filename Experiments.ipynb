{
 "cells": [
  {
   "cell_type": "code",
   "execution_count": 1,
   "metadata": {},
   "outputs": [
    {
     "name": "stderr",
     "output_type": "stream",
     "text": [
      "/Users/tomek/.virtualenvs/masters/lib/python3.6/site-packages/lightgbm/__init__.py:47: UserWarning: Starting from version 2.2.1, the library file in distribution wheels for macOS is built by the Apple Clang (Xcode_8.3.3) compiler.\n",
      "This means that in case of installing LightGBM from PyPI via the ``pip install lightgbm`` command, you don't need to install the gcc compiler anymore.\n",
      "Instead of that, you need to install the OpenMP library, which is required for running LightGBM on the system with the Apple Clang compiler.\n",
      "You can install the OpenMP library by the following command: ``brew install libomp``.\n",
      "  \"You can install the OpenMP library by the following command: ``brew install libomp``.\", UserWarning)\n"
     ]
    }
   ],
   "source": [
    "import numpy as np\n",
    "import lightgbm as lgb\n",
    "\n",
    "from sklearn.ensemble import AdaBoostClassifier\n",
    "from sklearn.tree import DecisionTreeClassifier\n",
    "from sklearn.datasets import load_iris\n",
    "from sklearn.metrics import accuracy_score\n",
    "from structure.Dataset import Dataset\n",
    "from structure.SklearnEnsemble import SklearnEnsemble\n",
    "from structure.LGBEnsemble import LGBEnsemble\n",
    "from predict import majority_voting"
   ]
  },
  {
   "cell_type": "code",
   "execution_count": 6,
   "metadata": {},
   "outputs": [],
   "source": [
    "# Data\n",
    "iris = load_iris()\n",
    "train_data, val_data = Dataset(iris.data, iris.target, iris.feature_names, iris.target_names).split()"
   ]
  },
  {
   "cell_type": "markdown",
   "metadata": {},
   "source": [
    "## Sklearn"
   ]
  },
  {
   "cell_type": "code",
   "execution_count": 3,
   "metadata": {},
   "outputs": [
    {
     "name": "stdout",
     "output_type": "stream",
     "text": [
      "[2 2 1 1 1 0 0 0 1 1 2 1 1 1 1] [2 2 2 2 2 0 0 0 2 2 2 2 2 2 2]\n",
      "0.4666666666666667\n",
      "0.9333333333333333\n"
     ]
    }
   ],
   "source": [
    "tree = DecisionTreeClassifier(max_depth=2)\n",
    "\n",
    "clf = AdaBoostClassifier(n_estimators=10, base_estimator=tree)\n",
    "ensemble = SklearnEnsemble(clf)\n",
    "ensemble.fit(train_data)\n",
    "\n",
    "clf_preds = ensemble.clf.predict(val_data.X)\n",
    "preds = ensemble.predict(val_data.X)\n",
    "\n",
    "print(clf_preds, preds)\n",
    "print(accuracy_score(val_data.y, preds))\n",
    "print(accuracy_score(val_data.y, clf_preds))"
   ]
  },
  {
   "cell_type": "markdown",
   "metadata": {},
   "source": [
    "## Light GBM"
   ]
  },
  {
   "cell_type": "code",
   "execution_count": 7,
   "metadata": {},
   "outputs": [
    {
     "name": "stdout",
     "output_type": "stream",
     "text": [
      "[0 0 2 2 2 0 1 1 2 1 2 2 0 0 0] [0 0 2 2 2 0 1 1 2 1 2 2 0 0 0]\n",
      "0.8\n",
      "0.8\n"
     ]
    }
   ],
   "source": [
    "clf = lgb.LGBMClassifier(n_estimators=10, objective='multiclass')\n",
    "ensemble = LGBEnsemble(clf)\n",
    "ensemble.fit(train_data)\n",
    "\n",
    "clf_preds = ensemble.clf.predict(val_data.X)\n",
    "preds = ensemble.predict(val_data.X)\n",
    "\n",
    "print(clf_preds, preds)\n",
    "print(accuracy_score(val_data.y, preds))\n",
    "print(accuracy_score(val_data.y, clf_preds))"
   ]
  },
  {
   "cell_type": "code",
   "execution_count": null,
   "metadata": {},
   "outputs": [],
   "source": []
  }
 ],
 "metadata": {
  "kernelspec": {
   "display_name": "Python 3",
   "language": "python",
   "name": "python3"
  },
  "language_info": {
   "codemirror_mode": {
    "name": "ipython",
    "version": 3
   },
   "file_extension": ".py",
   "mimetype": "text/x-python",
   "name": "python",
   "nbconvert_exporter": "python",
   "pygments_lexer": "ipython3",
   "version": "3.6.6"
  }
 },
 "nbformat": 4,
 "nbformat_minor": 2
}
