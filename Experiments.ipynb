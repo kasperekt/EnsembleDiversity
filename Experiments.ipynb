{
 "cells": [
  {
   "cell_type": "code",
   "execution_count": 3,
   "metadata": {},
   "outputs": [
    {
     "name": "stderr",
     "output_type": "stream",
     "text": [
      "/Users/tomek/.virtualenvs/masters/lib/python3.6/site-packages/lightgbm/__init__.py:47: UserWarning: Starting from version 2.2.1, the library file in distribution wheels for macOS is built by the Apple Clang (Xcode_8.3.3) compiler.\n",
      "This means that in case of installing LightGBM from PyPI via the ``pip install lightgbm`` command, you don't need to install the gcc compiler anymore.\n",
      "Instead of that, you need to install the OpenMP library, which is required for running LightGBM on the system with the Apple Clang compiler.\n",
      "You can install the OpenMP library by the following command: ``brew install libomp``.\n",
      "  \"You can install the OpenMP library by the following command: ``brew install libomp``.\", UserWarning)\n"
     ]
    }
   ],
   "source": [
    "import numpy as np\n",
    "import lightgbm as lgb\n",
    "\n",
    "from sklearn.ensemble import AdaBoostClassifier\n",
    "from sklearn.tree import DecisionTreeClassifier\n",
    "from sklearn.datasets import load_iris, load_breast_cancer\n",
    "from sklearn.metrics import accuracy_score\n",
    "from structure.Dataset import Dataset\n",
    "from structure.SklearnEnsemble import SklearnEnsemble\n",
    "from structure.LGBEnsemble import LGBEnsemble\n",
    "from predict import majority_voting"
   ]
  },
  {
   "cell_type": "code",
   "execution_count": 25,
   "metadata": {},
   "outputs": [],
   "source": [
    "# Data\n",
    "iris_train, iris_val = Dataset.from_sklearn(load_iris()).split()\n",
    "cancer_train, cancer_val = Dataset.from_sklearn(load_breast_cancer()).split()\n",
    "\n",
    "# train_data, val_data = iris_train, iris_val\n",
    "train_data, val_data = cancer_train, cancer_val"
   ]
  },
  {
   "cell_type": "markdown",
   "metadata": {},
   "source": [
    "## Sklearn"
   ]
  },
  {
   "cell_type": "code",
   "execution_count": 5,
   "metadata": {},
   "outputs": [
    {
     "name": "stdout",
     "output_type": "stream",
     "text": [
      "[1 1 0 0 1 1 1 1 1 1 1 1 1 0 0 1 1 1 1 0 0 0 0 1 0 0 1 0 1 1 0 1 1 1 0 1 1\n",
      " 1 1 0 0 1 0 1 0 0 1 0 1 0 0 1 1 0 1 0 1] [1 1 0 0 1 1 1 1 1 1 1 1 1 0 0 1 1 1 1 0 0 0 0 1 0 0 1 0 1 1 0 1 1 1 0 1 1\n",
      " 1 1 0 0 1 0 1 0 0 1 0 1 0 0 1 1 0 1 0 1]\n",
      "0.8947368421052632\n",
      "0.8947368421052632\n",
      "Node div = 0.0\n"
     ]
    }
   ],
   "source": [
    "# Somehow it works for max_depth >=7, and not <7\n",
    "tree = DecisionTreeClassifier(max_depth=7)\n",
    "\n",
    "clf = AdaBoostClassifier(n_estimators=10, base_estimator=tree)\n",
    "ensemble = SklearnEnsemble(clf)\n",
    "ensemble.fit(train_data)\n",
    "\n",
    "clf_preds = ensemble.clf.predict(val_data.X)\n",
    "preds = ensemble.predict(val_data.X)\n",
    "\n",
    "print(clf_preds, preds)\n",
    "print(accuracy_score(val_data.y, preds))\n",
    "print(accuracy_score(val_data.y, clf_preds))\n",
    "print(f'Node div = {ensemble.node_diversity()}')"
   ]
  },
  {
   "cell_type": "markdown",
   "metadata": {},
   "source": [
    "## Light GBM"
   ]
  },
  {
   "cell_type": "code",
   "execution_count": 6,
   "metadata": {},
   "outputs": [
    {
     "name": "stdout",
     "output_type": "stream",
     "text": [
      "[1 1 0 0 1 1 1 1 1 1 1 1 1 0 1 1 1 1 1 0 0 0 0 1 1 0 1 0 1 1 0 1 1 1 0 1 1\n",
      " 1 1 0 0 1 0 1 0 0 1 0 1 0 0 1 1 0 1 1 1]\n",
      "[0 0 0 0 0 0 0 0 0 0 0 0 0 0 0 0 0 0 0 0 0 0 0 0 0 0 0 0 0 0 0 0 0 0 0 0 0\n",
      " 0 0 0 0 0 0 0 0 0 0 0 0 0 0 0 0 0 0 0 0]\n",
      "0.3333333333333333\n",
      "0.9473684210526315\n",
      "Node div = 9.340235543068493\n"
     ]
    }
   ],
   "source": [
    "clf = lgb.LGBMClassifier(n_estimators=10, objective='binary')\n",
    "ensemble = LGBEnsemble(clf)\n",
    "ensemble.fit(train_data)\n",
    "\n",
    "clf_preds = ensemble.clf.predict(val_data.X)\n",
    "preds = ensemble.predict(val_data.X)\n",
    "\n",
    "print(clf_preds)\n",
    "print(preds)\n",
    "print(accuracy_score(val_data.y, preds))\n",
    "print(accuracy_score(val_data.y, clf_preds))\n",
    "print(f'Node div = {ensemble.node_diversity()}')"
   ]
  },
  {
   "cell_type": "code",
   "execution_count": 57,
   "metadata": {},
   "outputs": [
    {
     "ename": "ValueError",
     "evalue": "cannot reshape array of size 570 into shape (57,10,2)",
     "output_type": "error",
     "traceback": [
      "\u001b[0;31m---------------------------------------------------------------------------\u001b[0m",
      "\u001b[0;31mValueError\u001b[0m                                Traceback (most recent call last)",
      "\u001b[0;32m<ipython-input-57-467626b43f42>\u001b[0m in \u001b[0;36m<module>\u001b[0;34m\u001b[0m\n\u001b[1;32m     13\u001b[0m \u001b[0mpredictions\u001b[0m \u001b[0;34m=\u001b[0m \u001b[0mnp\u001b[0m\u001b[0;34m.\u001b[0m\u001b[0marray\u001b[0m\u001b[0;34m(\u001b[0m\u001b[0;34m[\u001b[0m\u001b[0mtree\u001b[0m\u001b[0;34m.\u001b[0m\u001b[0mpredict\u001b[0m\u001b[0;34m(\u001b[0m\u001b[0mX\u001b[0m\u001b[0;34m)\u001b[0m \u001b[0;32mfor\u001b[0m \u001b[0mtree\u001b[0m \u001b[0;32min\u001b[0m \u001b[0mtrees\u001b[0m\u001b[0;34m]\u001b[0m\u001b[0;34m)\u001b[0m\u001b[0;34m\u001b[0m\u001b[0m\n\u001b[1;32m     14\u001b[0m predictions = np.rollaxis(predictions, axis=1).reshape(\n\u001b[0;32m---> 15\u001b[0;31m     (len(X), n_estimators, n_classes))\n\u001b[0m\u001b[1;32m     16\u001b[0m \u001b[0;34m\u001b[0m\u001b[0m\n\u001b[1;32m     17\u001b[0m \u001b[0mprint\u001b[0m\u001b[0;34m(\u001b[0m\u001b[0mpredictions\u001b[0m\u001b[0;34m.\u001b[0m\u001b[0mshape\u001b[0m\u001b[0;34m)\u001b[0m\u001b[0;34m\u001b[0m\u001b[0m\n",
      "\u001b[0;31mValueError\u001b[0m: cannot reshape array of size 570 into shape (57,10,2)"
     ]
    }
   ],
   "source": [
    "from scipy.special import softmax, expit\n",
    "\n",
    "X = val_data.X\n",
    "y = val_data.y\n",
    "\n",
    "trees = ensemble.trees\n",
    "clf = ensemble.clf\n",
    "\n",
    "n_classes = len(clf.classes_)\n",
    "# THIS IS BAD FOR BINARY\n",
    "n_estimators = clf.n_estimators\n",
    "\n",
    "predictions = np.array([tree.predict(X) for tree in trees])\n",
    "predictions = np.rollaxis(predictions, axis=1).reshape(\n",
    "    (len(X), n_estimators, n_classes))\n",
    "\n",
    "print(predictions.shape)\n",
    "\n",
    "# TODO: There's problem here\n",
    "# print(np.sum(predictions, axis=1).shape)\n",
    "probs = expit(np.sum(predictions, axis=1))\n",
    "# print(probs)\n",
    "\n",
    "np.argmax(probs, axis=1), y"
   ]
  },
  {
   "cell_type": "code",
   "execution_count": 70,
   "metadata": {},
   "outputs": [
    {
     "data": {
      "text/plain": [
       "array([[0.77462284, 0.22537716],\n",
       "       [0.13875402, 0.86124598],\n",
       "       [0.77771077, 0.22228923],\n",
       "       [0.13636397, 0.86363603],\n",
       "       [0.45797214, 0.54202786],\n",
       "       [0.77870358, 0.22129642],\n",
       "       [0.18217074, 0.81782926],\n",
       "       [0.1668994 , 0.8331006 ],\n",
       "       [0.13624044, 0.86375956],\n",
       "       [0.76154519, 0.23845481],\n",
       "       [0.77803804, 0.22196196],\n",
       "       [0.15825654, 0.84174346],\n",
       "       [0.77619048, 0.22380952],\n",
       "       [0.7793897 , 0.2206103 ],\n",
       "       [0.45797214, 0.54202786],\n",
       "       [0.15467624, 0.84532376],\n",
       "       [0.77957465, 0.22042535],\n",
       "       [0.13628365, 0.86371635],\n",
       "       [0.49122975, 0.50877025],\n",
       "       [0.73599776, 0.26400224],\n",
       "       [0.15881227, 0.84118773],\n",
       "       [0.13636455, 0.86363545],\n",
       "       [0.54473573, 0.45526427],\n",
       "       [0.13587983, 0.86412017],\n",
       "       [0.47784427, 0.52215573],\n",
       "       [0.13327572, 0.86672428],\n",
       "       [0.31743068, 0.68256932],\n",
       "       [0.77210419, 0.22789581],\n",
       "       [0.78057362, 0.21942638],\n",
       "       [0.17538285, 0.82461715],\n",
       "       [0.1363545 , 0.8636455 ],\n",
       "       [0.39910587, 0.60089413],\n",
       "       [0.77371009, 0.22628991],\n",
       "       [0.18217074, 0.81782926],\n",
       "       [0.13557247, 0.86442753],\n",
       "       [0.13635795, 0.86364205],\n",
       "       [0.14058287, 0.85941713],\n",
       "       [0.16106736, 0.83893264],\n",
       "       [0.76271587, 0.23728413],\n",
       "       [0.13629027, 0.86370973],\n",
       "       [0.77981526, 0.22018474],\n",
       "       [0.1456202 , 0.8543798 ],\n",
       "       [0.13636848, 0.86363152],\n",
       "       [0.13628949, 0.86371051],\n",
       "       [0.13636317, 0.86363683],\n",
       "       [0.18861111, 0.81138889],\n",
       "       [0.13636375, 0.86363625],\n",
       "       [0.75873395, 0.24126605],\n",
       "       [0.13637894, 0.86362106],\n",
       "       [0.2793574 , 0.7206426 ],\n",
       "       [0.78041409, 0.21958591],\n",
       "       [0.59098011, 0.40901989],\n",
       "       [0.1363437 , 0.8636563 ],\n",
       "       [0.77924939, 0.22075061],\n",
       "       [0.78120641, 0.21879359],\n",
       "       [0.70261842, 0.29738158],\n",
       "       [0.77286364, 0.22713636]])"
      ]
     },
     "execution_count": 70,
     "metadata": {},
     "output_type": "execute_result"
    }
   ],
   "source": [
    "arr = \n",
    "probs = np.array([np.array([1 - prob, prob]) for prob in expit(np.sum(predictions, axis = 0))])\n",
    "probs"
   ]
  },
  {
   "cell_type": "code",
   "execution_count": 62,
   "metadata": {},
   "outputs": [
    {
     "data": {
      "text/plain": [
       "array([[0.77462284, 0.22537716],\n",
       "       [0.13875402, 0.86124598],\n",
       "       [0.77771077, 0.22228923],\n",
       "       [0.13636397, 0.86363603],\n",
       "       [0.45797214, 0.54202786],\n",
       "       [0.77870358, 0.22129642],\n",
       "       [0.18217074, 0.81782926],\n",
       "       [0.1668994 , 0.8331006 ],\n",
       "       [0.13624044, 0.86375956],\n",
       "       [0.76154519, 0.23845481],\n",
       "       [0.77803804, 0.22196196],\n",
       "       [0.15825654, 0.84174346],\n",
       "       [0.77619048, 0.22380952],\n",
       "       [0.7793897 , 0.2206103 ],\n",
       "       [0.45797214, 0.54202786],\n",
       "       [0.15467624, 0.84532376],\n",
       "       [0.77957465, 0.22042535],\n",
       "       [0.13628365, 0.86371635],\n",
       "       [0.49122975, 0.50877025],\n",
       "       [0.73599776, 0.26400224],\n",
       "       [0.15881227, 0.84118773],\n",
       "       [0.13636455, 0.86363545],\n",
       "       [0.54473573, 0.45526427],\n",
       "       [0.13587983, 0.86412017],\n",
       "       [0.47784427, 0.52215573],\n",
       "       [0.13327572, 0.86672428],\n",
       "       [0.31743068, 0.68256932],\n",
       "       [0.77210419, 0.22789581],\n",
       "       [0.78057362, 0.21942638],\n",
       "       [0.17538285, 0.82461715],\n",
       "       [0.1363545 , 0.8636455 ],\n",
       "       [0.39910587, 0.60089413],\n",
       "       [0.77371009, 0.22628991],\n",
       "       [0.18217074, 0.81782926],\n",
       "       [0.13557247, 0.86442753],\n",
       "       [0.13635795, 0.86364205],\n",
       "       [0.14058287, 0.85941713],\n",
       "       [0.16106736, 0.83893264],\n",
       "       [0.76271587, 0.23728413],\n",
       "       [0.13629027, 0.86370973],\n",
       "       [0.77981526, 0.22018474],\n",
       "       [0.1456202 , 0.8543798 ],\n",
       "       [0.13636848, 0.86363152],\n",
       "       [0.13628949, 0.86371051],\n",
       "       [0.13636317, 0.86363683],\n",
       "       [0.18861111, 0.81138889],\n",
       "       [0.13636375, 0.86363625],\n",
       "       [0.75873395, 0.24126605],\n",
       "       [0.13637894, 0.86362106],\n",
       "       [0.2793574 , 0.7206426 ],\n",
       "       [0.78041409, 0.21958591],\n",
       "       [0.59098011, 0.40901989],\n",
       "       [0.1363437 , 0.8636563 ],\n",
       "       [0.77924939, 0.22075061],\n",
       "       [0.78120641, 0.21879359],\n",
       "       [0.70261842, 0.29738158],\n",
       "       [0.77286364, 0.22713636]])"
      ]
     },
     "execution_count": 62,
     "metadata": {},
     "output_type": "execute_result"
    }
   ],
   "source": [
    "clf.predict_proba(X)"
   ]
  },
  {
   "cell_type": "code",
   "execution_count": null,
   "metadata": {},
   "outputs": [],
   "source": []
  }
 ],
 "metadata": {
  "kernelspec": {
   "display_name": "Python 3",
   "language": "python",
   "name": "python3"
  },
  "language_info": {
   "codemirror_mode": {
    "name": "ipython",
    "version": 3
   },
   "file_extension": ".py",
   "mimetype": "text/x-python",
   "name": "python",
   "nbconvert_exporter": "python",
   "pygments_lexer": "ipython3",
   "version": "3.6.6"
  }
 },
 "nbformat": 4,
 "nbformat_minor": 2
}
